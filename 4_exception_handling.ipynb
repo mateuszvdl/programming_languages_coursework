{
 "cells": [
  {
   "cell_type": "markdown",
   "id": "188a92fe",
   "metadata": {},
   "source": [
    "# Ćwiczenie 5"
   ]
  },
  {
   "cell_type": "markdown",
   "id": "f37da3a1",
   "metadata": {},
   "source": [
    "## Obsługa wyjątków"
   ]
  },
  {
   "cell_type": "markdown",
   "id": "2e29c6fa",
   "metadata": {},
   "source": [
    "Podziel 1 przez 0. Zobacz typ wyjątku i komunikat."
   ]
  },
  {
   "cell_type": "code",
   "execution_count": 1,
   "id": "b6b88402",
   "metadata": {},
   "outputs": [
    {
     "ename": "ZeroDivisionError",
     "evalue": "division by zero",
     "output_type": "error",
     "traceback": [
      "\u001b[1;31m---------------------------------------------------------------------------\u001b[0m",
      "\u001b[1;31mZeroDivisionError\u001b[0m                         Traceback (most recent call last)",
      "Input \u001b[1;32mIn [1]\u001b[0m, in \u001b[0;36m<cell line: 1>\u001b[1;34m()\u001b[0m\n\u001b[1;32m----> 1\u001b[0m \u001b[38;5;241;43m1\u001b[39;49m\u001b[38;5;241;43m/\u001b[39;49m\u001b[38;5;241;43m0\u001b[39;49m\n",
      "\u001b[1;31mZeroDivisionError\u001b[0m: division by zero"
     ]
    }
   ],
   "source": [
    "1/0"
   ]
  },
  {
   "cell_type": "markdown",
   "id": "dcb5dd44",
   "metadata": {},
   "source": [
    "Wykorzystaj blok try-except, żeby obsłużyć wyjątek. W bloku except umieść print(\"Error occured\")."
   ]
  },
  {
   "cell_type": "code",
   "execution_count": 2,
   "id": "07241b28",
   "metadata": {},
   "outputs": [
    {
     "name": "stdout",
     "output_type": "stream",
     "text": [
      "Error occured\n"
     ]
    }
   ],
   "source": [
    "try:\n",
    "    1/0\n",
    "except:\n",
    "    print(\"Error occured\")"
   ]
  },
  {
   "cell_type": "markdown",
   "id": "a73bc760",
   "metadata": {},
   "source": [
    "W linii except dodaj: Exception as e. Poniżej zmień wyświetlanie - wyświetl e i e.\\_\\_class\\_\\_.\\_\\_name\\_\\_"
   ]
  },
  {
   "cell_type": "code",
   "execution_count": 3,
   "id": "47a1e261",
   "metadata": {},
   "outputs": [
    {
     "name": "stdout",
     "output_type": "stream",
     "text": [
      "ZeroDivisionError\n",
      "Error occured\n"
     ]
    }
   ],
   "source": [
    "try:\n",
    "    1/0\n",
    "except Exception as e:\n",
    "    print(e.__class__.__name__)\n",
    "    print(\"Error occured\")"
   ]
  },
  {
   "cell_type": "markdown",
   "id": "ddd4ab3c",
   "metadata": {},
   "source": [
    "Przed linią except dodaj obsługę wyjątku ZeroDivisionError. Wewnątrz dodaj wyświetlenie \"Operation not possible\". Przetestuj działanie."
   ]
  },
  {
   "cell_type": "code",
   "execution_count": 4,
   "id": "75f416fa",
   "metadata": {},
   "outputs": [
    {
     "name": "stdout",
     "output_type": "stream",
     "text": [
      "division by zero\n",
      "Operation not possible\n"
     ]
    }
   ],
   "source": [
    "try:\n",
    "    1/0\n",
    "except ZeroDivisionError as e:\n",
    "    print(e)\n",
    "    print(\"Operation not possible\")"
   ]
  },
  {
   "cell_type": "markdown",
   "id": "3b147309",
   "metadata": {},
   "source": [
    "W sekcji try przed dzieleniem dodaj konwersję łańcucha znaków \"abc\" na int. Uruchom kod - jaki kod błędu zobaczysz?"
   ]
  },
  {
   "cell_type": "code",
   "execution_count": 5,
   "id": "d662cd0a",
   "metadata": {},
   "outputs": [
    {
     "ename": "ValueError",
     "evalue": "invalid literal for int() with base 10: 'ghsgf'",
     "output_type": "error",
     "traceback": [
      "\u001b[1;31m---------------------------------------------------------------------------\u001b[0m",
      "\u001b[1;31mValueError\u001b[0m                                Traceback (most recent call last)",
      "Input \u001b[1;32mIn [5]\u001b[0m, in \u001b[0;36m<cell line: 1>\u001b[1;34m()\u001b[0m\n\u001b[0;32m      1\u001b[0m \u001b[38;5;28;01mtry\u001b[39;00m:\n\u001b[0;32m      2\u001b[0m     liczba \u001b[38;5;241m=\u001b[39m \u001b[38;5;124m\"\u001b[39m\u001b[38;5;124mghsgf\u001b[39m\u001b[38;5;124m\"\u001b[39m\n\u001b[1;32m----> 3\u001b[0m     sloqo \u001b[38;5;241m=\u001b[39m \u001b[38;5;28;43mint\u001b[39;49m\u001b[43m(\u001b[49m\u001b[43mliczba\u001b[49m\u001b[43m)\u001b[49m\n\u001b[0;32m      4\u001b[0m     \u001b[38;5;241m1\u001b[39m\u001b[38;5;241m/\u001b[39m\u001b[38;5;241m0\u001b[39m\n\u001b[0;32m      5\u001b[0m \u001b[38;5;28;01mexcept\u001b[39;00m \u001b[38;5;167;01mZeroDivisionError\u001b[39;00m \u001b[38;5;28;01mas\u001b[39;00m e:\n",
      "\u001b[1;31mValueError\u001b[0m: invalid literal for int() with base 10: 'ghsgf'"
     ]
    }
   ],
   "source": [
    "try:\n",
    "    liczba = \"ghsgf\"\n",
    "    sloqo = int(liczba)\n",
    "    1/0\n",
    "except ZeroDivisionError as e:\n",
    "    print(e)\n",
    "    print(\"Operation not possible\")"
   ]
  },
  {
   "cell_type": "markdown",
   "id": "6002f36d",
   "metadata": {},
   "source": [
    "## Własne typy wyjątków"
   ]
  },
  {
   "cell_type": "markdown",
   "id": "216781c4",
   "metadata": {},
   "source": [
    "Przyjrzyj się poniższej definicji wyjątku:\n",
    "- jest to deklaracja nowej klasy\n",
    "- klasa dziedziczy po klasie Exception"
   ]
  },
  {
   "cell_type": "code",
   "execution_count": 6,
   "id": "638c12fe",
   "metadata": {},
   "outputs": [],
   "source": [
    "class InvalidMail(Exception):\n",
    "    pass"
   ]
  },
  {
   "cell_type": "markdown",
   "id": "05e1b095",
   "metadata": {},
   "source": [
    "Napisz kod, który pobierze dane od użytkownika - poproś o adres mailowy. <br>\n",
    "Dodaj warunek (if), że jeżeli podany ciąg znaków nie zawiera @ (użyj in), to rzuć wyjątek InvalidMail za pomocą raise podając \"Invalid mail\"."
   ]
  },
  {
   "cell_type": "code",
   "execution_count": 7,
   "id": "707a01ef",
   "metadata": {},
   "outputs": [
    {
     "name": "stdout",
     "output_type": "stream",
     "text": [
      "Give adress: mvan@\n",
      "correct\n"
     ]
    }
   ],
   "source": [
    "mail_address = input(\"Give adress: \")\n",
    "try:\n",
    "    if \"@\" not in mail_address:\n",
    "        raise InvalidMail(\"Invalid Mail\")\n",
    "except InvalidMail as e:\n",
    "    print(e)\n",
    "print(\"correct\")"
   ]
  },
  {
   "cell_type": "markdown",
   "id": "f7b7afae",
   "metadata": {},
   "source": [
    "## Ćwiczenie obsługi wyjątków"
   ]
  },
  {
   "cell_type": "markdown",
   "id": "7a1a3f69",
   "metadata": {},
   "source": [
    "### Dodawanie losowych liczb do listy"
   ]
  },
  {
   "cell_type": "markdown",
   "id": "c2df5392",
   "metadata": {},
   "source": [
    "Utwórz zmienną lst typu lista. W pętli for dodawaj do listy (append) losowe wartości generowane za pomocą poniższego kodu. Uzupełnij listę o 10 losowych liczb: użyj for - in range."
   ]
  },
  {
   "cell_type": "code",
   "execution_count": 1,
   "id": "3900a183",
   "metadata": {},
   "outputs": [
    {
     "data": {
      "text/plain": [
       "1"
      ]
     },
     "execution_count": 1,
     "metadata": {},
     "output_type": "execute_result"
    }
   ],
   "source": [
    "import random\n",
    "random.randint(0,2)"
   ]
  },
  {
   "cell_type": "code",
   "execution_count": 2,
   "id": "b7ded7cf",
   "metadata": {},
   "outputs": [],
   "source": [
    "import random\n",
    "lst = []\n",
    "for it in range(10):\n",
    "    wylosowana = random.randint(0,10)\n",
    "    lst.append(wylosowana)"
   ]
  },
  {
   "cell_type": "markdown",
   "id": "6038520e",
   "metadata": {},
   "source": [
    "Wyświetl wygenerowaną listę."
   ]
  },
  {
   "cell_type": "code",
   "execution_count": 3,
   "id": "004873dc",
   "metadata": {},
   "outputs": [
    {
     "data": {
      "text/plain": [
       "[6, 10, 3, 3, 1, 3, 7, 2, 2, 9]"
      ]
     },
     "execution_count": 3,
     "metadata": {},
     "output_type": "execute_result"
    }
   ],
   "source": [
    "lst"
   ]
  },
  {
   "cell_type": "markdown",
   "id": "99128979",
   "metadata": {},
   "source": [
    "Zmodyfikuj generowanie listy. Zamiast dodawać wszystkie liczby, dodaj iloraz dzielenia 10 przez wylosowaną liczbę. Jeżeli wyniku nie da się uzyskać, to nie dodawaj tej liczby."
   ]
  },
  {
   "cell_type": "code",
   "execution_count": 4,
   "id": "2d371f86",
   "metadata": {},
   "outputs": [
    {
     "name": "stdout",
     "output_type": "stream",
     "text": [
      "wylosowana liczba 6\n",
      "wylosowana liczba 9\n",
      "wylosowana liczba 0\n",
      "not added\n",
      "wylosowana liczba 7\n",
      "wylosowana liczba 8\n",
      "wylosowana liczba 3\n",
      "wylosowana liczba 8\n",
      "wylosowana liczba 0\n",
      "not added\n",
      "wylosowana liczba 8\n",
      "wylosowana liczba 2\n"
     ]
    }
   ],
   "source": [
    "import random\n",
    "lst = []\n",
    "for it in range(10):\n",
    "    wylosowana = random.randint(0,10)\n",
    "    print(\"wylosowana liczba\", wylosowana)\n",
    "    try:\n",
    "        lst.append(10/wylosowana)\n",
    "    except:\n",
    "        print(\"not added\")"
   ]
  },
  {
   "cell_type": "markdown",
   "id": "05625eab",
   "metadata": {},
   "source": [
    "### Konwersja inputu na liczbę"
   ]
  },
  {
   "cell_type": "markdown",
   "id": "b22e6c00",
   "metadata": {},
   "source": [
    "Napisz następujący program:\n",
    "- Wygeneruj liczbę z przedziału 1-3 i przypisz ją do zmiennej rand_num.<br>\n",
    "- Utwórz zmienną user_input o wartości None<br>\n",
    "- Utwórz pętle while z warunkiem: dopóki rand_num różna od user_input.<br>\n",
    "- Wewnątrz pętli dodaj try-except.<br>\n",
    "- W bloku try do zmiennej user_input przypisz dane pobrane od użytkownika - wyświetl mu tekst: \"Guess a number: \"<br>\n",
    "- W następnym kroku dodaj konwersję zmiennej user_input na int.<br>\n",
    "- W kolejnym kroku dodaj instrukcję sterującą if z warunkiem: rand_num różna od user_input. Wewnątrz instrukcji wyświetl: \"Numbers don't match\".<br>\n",
    "- W bloku except wyświetl: \"Provided value is not a number.\""
   ]
  },
  {
   "cell_type": "code",
   "execution_count": 6,
   "id": "731e68f6",
   "metadata": {},
   "outputs": [
    {
     "name": "stdout",
     "output_type": "stream",
     "text": [
      "Guess a number hthe\n",
      "Provided value is not a number\n",
      "Guess a number 2\n",
      "Numbers don't match\n",
      "Guess a number 3\n"
     ]
    }
   ],
   "source": [
    "import random\n",
    "rand_num = random.randint(1,3)\n",
    "user_input = None\n",
    "while user_input != rand_num:\n",
    "    try:\n",
    "        user_input = input(\"Guess a number \")\n",
    "        user_input = int(user_input)\n",
    "        if rand_num != user_input:\n",
    "            print(\"Numbers don't match\")\n",
    "    except:\n",
    "        print(\"Provided value is not a number\")"
   ]
  },
  {
   "cell_type": "markdown",
   "id": "adf62efe",
   "metadata": {},
   "source": [
    "Zamień blok try-except na funkcję get_number_from_user. Usuń z niej warunek if. Funkcja powinna zwrócić pobraną liczbę lub None."
   ]
  },
  {
   "cell_type": "code",
   "execution_count": 7,
   "id": "aa50c2e3",
   "metadata": {},
   "outputs": [],
   "source": [
    "def get_number_from_user():\n",
    "    try:\n",
    "        user_input = input(\"Guess a number \")\n",
    "        user_input = int(user_input)\n",
    "        return user_input\n",
    "    except:\n",
    "        user_input = None\n",
    "        print(\"Provided value is not a number\")\n",
    "        return user_input"
   ]
  },
  {
   "cell_type": "markdown",
   "id": "80e4cf99",
   "metadata": {},
   "source": [
    "Przetestuj funkcję."
   ]
  },
  {
   "cell_type": "code",
   "execution_count": 8,
   "id": "18618849",
   "metadata": {},
   "outputs": [
    {
     "name": "stdout",
     "output_type": "stream",
     "text": [
      "Guess a number fhdht\n",
      "Provided value is not a number\n",
      "None\n"
     ]
    }
   ],
   "source": [
    "variable = get_number_from_user()\n",
    "print(variable)"
   ]
  },
  {
   "cell_type": "markdown",
   "id": "0b875730",
   "metadata": {},
   "source": [
    "Użyj funkcji w zadaniu z pętlą while."
   ]
  },
  {
   "cell_type": "code",
   "execution_count": 10,
   "id": "e043c73e",
   "metadata": {},
   "outputs": [
    {
     "name": "stdout",
     "output_type": "stream",
     "text": [
      "Guess a number 1\n",
      "3 1\n",
      "Guess a number 2\n",
      "3 2\n",
      "Guess a number 3\n",
      "3 3\n"
     ]
    }
   ],
   "source": [
    "import random\n",
    "rand_num = random.randint(1,3)\n",
    "user_input = None\n",
    "while user_input != rand_num:\n",
    "    user_input = int(get_number_from_user())\n",
    "    print(rand_num, user_input)"
   ]
  },
  {
   "cell_type": "markdown",
   "id": "cf1687f5",
   "metadata": {},
   "source": [
    "Porównaj obydwa kody pod względem czytelności."
   ]
  }
 ],
 "metadata": {
  "kernelspec": {
   "display_name": "Python 3 (ipykernel)",
   "language": "python",
   "name": "python3"
  },
  "language_info": {
   "codemirror_mode": {
    "name": "ipython",
    "version": 3
   },
   "file_extension": ".py",
   "mimetype": "text/x-python",
   "name": "python",
   "nbconvert_exporter": "python",
   "pygments_lexer": "ipython3",
   "version": "3.9.12"
  }
 },
 "nbformat": 4,
 "nbformat_minor": 5
}
