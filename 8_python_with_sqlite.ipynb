{
 "cells": [
  {
   "cell_type": "markdown",
   "id": "578eab90",
   "metadata": {},
   "source": [
    "# Podstawy SQL"
   ]
  },
  {
   "cell_type": "markdown",
   "id": "7bd96dc4",
   "metadata": {},
   "source": [
    "## 1. Podstawowe operacje SQL na przykładzie SQL lite"
   ]
  },
  {
   "cell_type": "markdown",
   "id": "23716a98",
   "metadata": {},
   "source": [
    "Import biblioteki"
   ]
  },
  {
   "cell_type": "code",
   "execution_count": 25,
   "id": "735aac23",
   "metadata": {},
   "outputs": [],
   "source": [
    "import sqlite3"
   ]
  },
  {
   "cell_type": "markdown",
   "id": "f983d8bd",
   "metadata": {},
   "source": [
    "Utworzenie bazy danych customers.db"
   ]
  },
  {
   "cell_type": "code",
   "execution_count": 26,
   "id": "c18d645e",
   "metadata": {},
   "outputs": [
    {
     "name": "stdout",
     "output_type": "stream",
     "text": [
      "SQLite version: ('3.38.2',)\n"
     ]
    }
   ],
   "source": [
    "# pomoc - patrz ściągawka\n",
    "import sqlite3\n",
    "with sqlite3.connect('customers.db') as conn:\n",
    "    cursor = conn.cursor()\n",
    "    cursor.execute('SELECT SQLITE_VERSION()')\n",
    "    data = cursor.fetchone()\n",
    "    print('SQLite version:', data)"
   ]
  },
  {
   "cell_type": "markdown",
   "id": "b769eccf",
   "metadata": {},
   "source": [
    "Utwórz tabelę customers_data z polami:\n",
    "- customer_id (TEXT)\n",
    "- customer_name (TEXT)\n",
    "- address (TEXT)\n",
    "- balance (REAL)\n",
    "- pin (INT)"
   ]
  },
  {
   "cell_type": "code",
   "execution_count": 27,
   "id": "28078d46",
   "metadata": {},
   "outputs": [],
   "source": [
    "with sqlite3.connect('customers.db') as conn:\n",
    "    cursor = conn.cursor()\n",
    "    cursor.execute('''CREATE TABLE IF NOT EXISTS CUSTOMERS_DATA\n",
    "                  (customer_id TEXT, customer_name TEXT, address TEXT, balance REAL, pin INT)''')\n",
    "    conn.commit()"
   ]
  },
  {
   "cell_type": "markdown",
   "id": "9cf5d524",
   "metadata": {},
   "source": [
    "Dodaj pierwszego klienta:\n",
    "{\"customer_id\":'c_100', 'customer_name': 'Adam Kowalski', 'address': 'Warsaw', 'balance': 100, 'pin': 1234}"
   ]
  },
  {
   "cell_type": "code",
   "execution_count": 28,
   "id": "0d78c93a",
   "metadata": {},
   "outputs": [
    {
     "name": "stdout",
     "output_type": "stream",
     "text": [
      "[('c_100', 'Adam Kowalski', 'Warsaw', 100, 1234), ('c_101', 'Anna Dabrowska', 'Cracow', 200, 9317), ('c_102', 'Agnieszka Nowa', 'Lublin', 300, 4444)]\n"
     ]
    }
   ],
   "source": [
    "# patrz ściągawka\n",
    "# podpowiedź - zamień słownik na krotkę\n",
    "# pamiętaj o potrzebnych znakach zapytania\n",
    "\n",
    "dct = {\"customer_id\":'c_100', 'customer_name': 'Adam Kowalski', 'address': 'Warsaw', 'balance': 100, 'pin': 1234}\n",
    "dct2 = {\"customer_id\":'c_101', 'customer_name': 'Anna Dabrowska', 'address': 'Cracow', 'balance': 200, 'pin': 9317}\n",
    "dct3 = {\"customer_id\":'c_102', 'customer_name': 'Agnieszka Nowa', 'address': 'Lublin', 'balance': 300, 'pin': 4444}\n",
    "tup = [(dct[\"customer_id\"], dct['customer_name'], dct['address'], dct['balance'], dct['pin']),\n",
    "       (dct2[\"customer_id\"], dct2['customer_name'], dct2['address'], dct2['balance'], dct2['pin']),\n",
    "       (dct3[\"customer_id\"], dct3['customer_name'], dct3['address'], dct3['balance'], dct3['pin'])]\n",
    "\n",
    "print(tup)\n",
    "\n",
    "data = [(1, 4.5), (2, 4.0), (3, 4.2)]\n",
    "\n",
    "with sqlite3.connect('customers.db') as conn:\n",
    "    cursor = conn.cursor()\n",
    "    for row in tup:\n",
    "        sql_statement = '''INSERT INTO customers_data(customer_id, customer_name, address, balance, pin) VALUES (?, ?,?,?,?) '''\n",
    "        cursor.execute(sql_statement, row)\n",
    "    conn.commit()\n",
    "    cursor.close()"
   ]
  },
  {
   "cell_type": "markdown",
   "id": "7b0cca7d",
   "metadata": {},
   "source": [
    "Sprawdź wynik zapytania SELECT * FROM customers_data:"
   ]
  },
  {
   "cell_type": "code",
   "execution_count": 29,
   "id": "ed9c2dc1",
   "metadata": {},
   "outputs": [
    {
     "name": "stdout",
     "output_type": "stream",
     "text": [
      "('c_100', 'Adam Kowalski', 'Warsaw', 100.0, 1234)\n",
      "('c_100', 'Adam Kowalski', 'Warsaw', 100.0, 1234)\n",
      "('c_100', 'Adam Kowalski', 'Warsaw', 100.0, 1234)\n",
      "('c_100', 'Adam Kowalski', 'Warsaw', 100.0, 1234)\n",
      "('c_100', 'Adam Kowalski', 'Warsaw', 100.0, 1234)\n",
      "('c_100', 'Adam Kowalski', 'Warsaw', 100.0, 1234)\n",
      "('c_100', 'Adam Kowalski', 'Warsaw', 100.0, 1234)\n",
      "('c_101', 'Anna Dabrowska', 'Cracow', 200.0, 9317)\n",
      "('c_102', 'Agnieszka Nowa', 'Lublin', 300.0, 4444)\n",
      "('c_100', 'Adam Kowalski', 'Warsaw', 100.0, 1234)\n",
      "('c_101', 'Anna Dabrowska', 'Cracow', 200.0, 9317)\n",
      "('c_102', 'Agnieszka Nowa', 'Lublin', 300.0, 4444)\n",
      "('c_100', 'Adam Kowalski', 'Warsaw', 100.0, 1234)\n",
      "('c_101', 'Anna Dabrowska', 'Cracow', 200.0, 9317)\n",
      "('c_102', 'Agnieszka Nowa', 'Lublin', 300.0, 4444)\n",
      "('c_100', 'Adam Kowalski', 'Warsaw', 100.0, 1234)\n",
      "('c_101', 'Anna Dabrowska', 'Cracow', 200.0, 9317)\n",
      "('c_102', 'Agnieszka Nowa', 'Lublin', 300.0, 4444)\n",
      "('c_100', 'Adam Kowalski', 'Warsaw', 100.0, 1234)\n",
      "('c_101', 'Anna Dabrowska', 'Cracow', 200.0, 9317)\n",
      "('c_102', 'Agnieszka Nowa', 'Lublin', 300.0, 4444)\n",
      "('c_100', 'Adam Kowalski', 'Warsaw', 100.0, 1234)\n",
      "('c_101', 'Anna Dabrowska', 'Cracow', 200.0, 9317)\n",
      "('c_102', 'Agnieszka Nowa', 'Lublin', 300.0, 4444)\n",
      "('c_100', 'Adam Kowalski', 'Warsaw', 100.0, 1234)\n",
      "('c_101', 'Anna Dabrowska', 'Cracow', 200.0, 9317)\n",
      "('c_102', 'Agnieszka Nowa', 'Lublin', 300.0, 4444)\n"
     ]
    }
   ],
   "source": [
    "with sqlite3.connect('customers.db') as conn:\n",
    "    cursor = conn.cursor()\n",
    "    cursor.execute('''SELECT * FROM customers_data''')\n",
    "    data=cursor.fetchall()\n",
    "    for row in data:\n",
    "        print(row)\n",
    "        \n",
    "    cursor.close()"
   ]
  },
  {
   "cell_type": "raw",
   "id": "bb71ae90",
   "metadata": {},
   "source": [
    "Dodaj dwóch innych użytkowników:"
   ]
  },
  {
   "cell_type": "code",
   "execution_count": 30,
   "id": "417c8681",
   "metadata": {},
   "outputs": [],
   "source": [
    "# {\"customer_id\":'c_101', 'customer_name': 'Anna Dabrowska', 'address': 'Cracow', 'balance': 200, 'pin': 9317}"
   ]
  },
  {
   "cell_type": "code",
   "execution_count": 31,
   "id": "8eb3a91d",
   "metadata": {},
   "outputs": [],
   "source": [
    "# {\"customer_id\":'c_102', 'customer_name': 'Agnieszka Nowa', 'address': 'Lublin', 'balance': 300, 'pin': 4444}"
   ]
  },
  {
   "cell_type": "markdown",
   "id": "4806277f",
   "metadata": {},
   "source": [
    "Sprawdź, co teraz znajduje się w tabeli:"
   ]
  },
  {
   "cell_type": "code",
   "execution_count": 32,
   "id": "e6d7e0d4",
   "metadata": {},
   "outputs": [
    {
     "name": "stdout",
     "output_type": "stream",
     "text": [
      "('c_100', 'Adam Kowalski', 'Warsaw', 100.0, 1234)\n",
      "('c_100', 'Adam Kowalski', 'Warsaw', 100.0, 1234)\n",
      "('c_100', 'Adam Kowalski', 'Warsaw', 100.0, 1234)\n",
      "('c_100', 'Adam Kowalski', 'Warsaw', 100.0, 1234)\n",
      "('c_100', 'Adam Kowalski', 'Warsaw', 100.0, 1234)\n",
      "('c_100', 'Adam Kowalski', 'Warsaw', 100.0, 1234)\n",
      "('c_100', 'Adam Kowalski', 'Warsaw', 100.0, 1234)\n",
      "('c_101', 'Anna Dabrowska', 'Cracow', 200.0, 9317)\n",
      "('c_102', 'Agnieszka Nowa', 'Lublin', 300.0, 4444)\n",
      "('c_100', 'Adam Kowalski', 'Warsaw', 100.0, 1234)\n",
      "('c_101', 'Anna Dabrowska', 'Cracow', 200.0, 9317)\n",
      "('c_102', 'Agnieszka Nowa', 'Lublin', 300.0, 4444)\n",
      "('c_100', 'Adam Kowalski', 'Warsaw', 100.0, 1234)\n",
      "('c_101', 'Anna Dabrowska', 'Cracow', 200.0, 9317)\n",
      "('c_102', 'Agnieszka Nowa', 'Lublin', 300.0, 4444)\n",
      "('c_100', 'Adam Kowalski', 'Warsaw', 100.0, 1234)\n",
      "('c_101', 'Anna Dabrowska', 'Cracow', 200.0, 9317)\n",
      "('c_102', 'Agnieszka Nowa', 'Lublin', 300.0, 4444)\n",
      "('c_100', 'Adam Kowalski', 'Warsaw', 100.0, 1234)\n",
      "('c_101', 'Anna Dabrowska', 'Cracow', 200.0, 9317)\n",
      "('c_102', 'Agnieszka Nowa', 'Lublin', 300.0, 4444)\n",
      "('c_100', 'Adam Kowalski', 'Warsaw', 100.0, 1234)\n",
      "('c_101', 'Anna Dabrowska', 'Cracow', 200.0, 9317)\n",
      "('c_102', 'Agnieszka Nowa', 'Lublin', 300.0, 4444)\n",
      "('c_100', 'Adam Kowalski', 'Warsaw', 100.0, 1234)\n",
      "('c_101', 'Anna Dabrowska', 'Cracow', 200.0, 9317)\n",
      "('c_102', 'Agnieszka Nowa', 'Lublin', 300.0, 4444)\n"
     ]
    }
   ],
   "source": [
    "with sqlite3.connect('customers.db') as conn:\n",
    "    cursor = conn.cursor()\n",
    "    cursor.execute('''SELECT * FROM customers_data''')\n",
    "    data=cursor.fetchall()\n",
    "    for row in data:\n",
    "        print(row)\n",
    "        \n",
    "    cursor.close()"
   ]
  },
  {
   "cell_type": "markdown",
   "id": "ef13964e",
   "metadata": {},
   "source": [
    "Zapytaj się o wybranego użytkownika za pomocą identyfikatora customer_id:"
   ]
  },
  {
   "cell_type": "code",
   "execution_count": 33,
   "id": "5b153495",
   "metadata": {},
   "outputs": [
    {
     "name": "stdout",
     "output_type": "stream",
     "text": [
      "('c_100', 'Adam Kowalski', 'Warsaw', 100.0, 1234)\n",
      "('c_100', 'Adam Kowalski', 'Warsaw', 100.0, 1234)\n",
      "('c_100', 'Adam Kowalski', 'Warsaw', 100.0, 1234)\n",
      "('c_100', 'Adam Kowalski', 'Warsaw', 100.0, 1234)\n",
      "('c_100', 'Adam Kowalski', 'Warsaw', 100.0, 1234)\n",
      "('c_100', 'Adam Kowalski', 'Warsaw', 100.0, 1234)\n",
      "('c_100', 'Adam Kowalski', 'Warsaw', 100.0, 1234)\n",
      "('c_100', 'Adam Kowalski', 'Warsaw', 100.0, 1234)\n",
      "('c_100', 'Adam Kowalski', 'Warsaw', 100.0, 1234)\n",
      "('c_100', 'Adam Kowalski', 'Warsaw', 100.0, 1234)\n",
      "('c_100', 'Adam Kowalski', 'Warsaw', 100.0, 1234)\n",
      "('c_100', 'Adam Kowalski', 'Warsaw', 100.0, 1234)\n",
      "('c_100', 'Adam Kowalski', 'Warsaw', 100.0, 1234)\n"
     ]
    }
   ],
   "source": [
    "with sqlite3.connect('customers.db') as conn:\n",
    "    cursor = conn.cursor()\n",
    "    user=(\"c_100\",)\n",
    "    cursor.execute('''SELECT * FROM customers_data WHERE customer_id=(?)''',user)\n",
    "    data=cursor.fetchall()\n",
    "    for row in data:\n",
    "        print(row)\n",
    "        \n",
    "    cursor.close()"
   ]
  },
  {
   "cell_type": "markdown",
   "id": "6de33f2d",
   "metadata": {},
   "source": [
    "## 2. Bankomat - wykorzystanie zapytań SQL"
   ]
  },
  {
   "cell_type": "markdown",
   "id": "8cac0dfa",
   "metadata": {},
   "source": [
    "Przypomnij sobie kod z poprzedniego laboratorium:"
   ]
  },
  {
   "cell_type": "code",
   "execution_count": 34,
   "id": "f19a5faf",
   "metadata": {},
   "outputs": [],
   "source": [
    "def get_customer_data(customer_id):\n",
    "    try:\n",
    "        with open('customers_data.json', 'r') as file:\n",
    "            file_content = json.load(file)\n",
    "        return file_content[customer_id]\n",
    "    except:\n",
    "        return None\n",
    "    \n",
    "    \n",
    "class Customer:\n",
    "    \n",
    "    def __init__(self, customer_id, customer_name, address, balance, pin):\n",
    "        self.customer_id = customer_id\n",
    "        self.customer_name = customer_name \n",
    "        self.address = address\n",
    "        self.balance = balance \n",
    "        self.pin = pin\n",
    "\n",
    "        \n",
    "def get_customer_object(customer_id):\n",
    "    \n",
    "    try:\n",
    "        data = get_customer_data(customer_id)\n",
    "\n",
    "        cust = Customer(customer_id=customer_id, \n",
    "                        customer_name=data['customer_name'], \n",
    "                        address=data['address'], \n",
    "                        balance=data['balance'], \n",
    "                        pin=data['pin'])\n",
    "    except:\n",
    "        print(\"Error with creating customer\")\n",
    "        cust = None\n",
    "        \n",
    "    return cust"
   ]
  },
  {
   "cell_type": "markdown",
   "id": "7428c479",
   "metadata": {},
   "source": [
    "Zmień funkcję get_customer_data: dodaj odpytanie bazy danych zamiast odczytanie pliku:"
   ]
  },
  {
   "cell_type": "code",
   "execution_count": 35,
   "id": "6ef040db",
   "metadata": {},
   "outputs": [],
   "source": [
    "def get_customer_data(customer_id):\n",
    "\n",
    "    try:\n",
    "        with sqlite3.connect('customers.db') as conn:\n",
    "            cursor = conn.cursor()\n",
    "            mytup=(customer_id,)\n",
    "            cursor.execute('''SELECT * FROM customers_data WHERE customer_id=(?) ''',mytup)\n",
    "            rows=cursor.fetchall()\n",
    "            for row in rows:\n",
    "                return row\n",
    "            \n",
    "        conn.commit()\n",
    "        cursor.close()\n",
    "    except:\n",
    "        return None\n",
    "    \n",
    "    \n",
    "class Customer:\n",
    "    \n",
    "    def __init__(self, customer_id, customer_name, address, balance, pin):\n",
    "        self.customer_id = customer_id\n",
    "        self.customer_name = customer_name \n",
    "        self.address = address\n",
    "        self.balance = balance \n",
    "        self.pin = pin\n",
    "\n",
    "        \n",
    "def get_customer_object(customer_id):\n",
    "    \n",
    "    try:\n",
    "        data = get_customer_data(customer_id)\n",
    "\n",
    "        cust = Customer(customer_id=customer_id, \n",
    "                        customer_name=data[1], \n",
    "                        address=data[2], \n",
    "                        balance=data[3], \n",
    "                        pin=data[4])\n",
    "    except:\n",
    "        print(\"Error with creating customer\")\n",
    "        cust = None\n",
    "        \n",
    "    return cust"
   ]
  },
  {
   "cell_type": "markdown",
   "id": "ddf6e8e0",
   "metadata": {},
   "source": [
    "Przetestuj całość:"
   ]
  },
  {
   "cell_type": "code",
   "execution_count": 36,
   "id": "f75eca18",
   "metadata": {},
   "outputs": [
    {
     "name": "stdout",
     "output_type": "stream",
     "text": [
      "Cracow\n"
     ]
    }
   ],
   "source": [
    "zm = get_customer_object(\"c_101\")\n",
    "print(zm.address)"
   ]
  },
  {
   "cell_type": "markdown",
   "id": "f52340cc",
   "metadata": {},
   "source": [
    "## 3. Dalszy refactoring"
   ]
  },
  {
   "cell_type": "markdown",
   "id": "9fd40705",
   "metadata": {},
   "source": [
    "Zmień poniższe funkcje na funkcje wykorzystujące zapytania SQL:\n",
    "- witdraw_money(amount)\n",
    "- deposit_money(amount)\n",
    "\n",
    "Obie funkcje powinny zwrócić zaktualizowany obiekt customer. Dla ułatwienia nie będą to metody klasy, a niezależne funkcje."
   ]
  },
  {
   "cell_type": "code",
   "execution_count": 37,
   "id": "f41bf66a",
   "metadata": {},
   "outputs": [],
   "source": [
    "def witdraw_money(customer, amount):\n",
    "    \n",
    "    with sqlite3.connect('customers.db') as conn:\n",
    "        cursor = conn.cursor()\n",
    "        mytup=(customer.customer_id,)\n",
    "        cursor.execute('''SELECT * FROM customers_data WHERE customer_id=(?) ''',mytup)\n",
    "        rows=cursor.fetchall()\n",
    "        for row in rows:\n",
    "            customer.balance = row[3] - amount\n",
    "            mytup2 = (row[3] - amount, customer.customer_id)         \n",
    "            statement = '''UPDATE customers_data SET balance = (?) WHERE customer_id = (?) '''\n",
    "            cursor.execute(statement,mytup2)\n",
    "            conn.commit()\n",
    "    cursor.close()\n",
    "    \n",
    "    return customer"
   ]
  },
  {
   "cell_type": "markdown",
   "id": "bcce203b",
   "metadata": {},
   "source": [
    "Przetestuj funkcję:"
   ]
  },
  {
   "cell_type": "code",
   "execution_count": 38,
   "id": "d1cb7a2d",
   "metadata": {},
   "outputs": [
    {
     "name": "stdout",
     "output_type": "stream",
     "text": [
      "100.0\n",
      "68.0\n"
     ]
    }
   ],
   "source": [
    "zm = get_customer_object(\"c_100\")\n",
    "print(zm.balance)\n",
    "witdraw_money(zm,32)\n",
    "print(zm.balance)"
   ]
  },
  {
   "cell_type": "markdown",
   "id": "bddba0d1",
   "metadata": {},
   "source": [
    "Kod witdraw_money:"
   ]
  },
  {
   "cell_type": "code",
   "execution_count": 39,
   "id": "55c28068",
   "metadata": {},
   "outputs": [],
   "source": [
    "def witdraw_money(customer, amount):\n",
    "    \n",
    "    \n",
    "    \n",
    "    return customer"
   ]
  },
  {
   "cell_type": "markdown",
   "id": "3bd12f19",
   "metadata": {},
   "source": [
    "Przetestuj funkcję:"
   ]
  },
  {
   "cell_type": "code",
   "execution_count": null,
   "id": "8240a472",
   "metadata": {},
   "outputs": [],
   "source": []
  },
  {
   "cell_type": "markdown",
   "id": "f63d94d4",
   "metadata": {},
   "source": [
    "## 4. Rafactoring kodu"
   ]
  },
  {
   "cell_type": "markdown",
   "id": "61063da5",
   "metadata": {},
   "source": [
    "Funkcje get_customer_data i get_customer_object można uznać za niepotrzebne: usuń je, a kod umieść w init."
   ]
  },
  {
   "cell_type": "code",
   "execution_count": null,
   "id": "0ad77f63",
   "metadata": {},
   "outputs": [],
   "source": []
  },
  {
   "cell_type": "markdown",
   "id": "c1168bfa",
   "metadata": {},
   "source": [
    "Zamień funkcje witdraw_money i deposit_money na metody."
   ]
  },
  {
   "cell_type": "code",
   "execution_count": null,
   "id": "250b7b32",
   "metadata": {},
   "outputs": [],
   "source": []
  },
  {
   "cell_type": "markdown",
   "id": "bbc1973b",
   "metadata": {},
   "source": [
    "# Ściągawka"
   ]
  },
  {
   "cell_type": "markdown",
   "id": "5ae0055d",
   "metadata": {},
   "source": [
    "Utworzenie bazy danych students i sprawdzenie wersji:"
   ]
  },
  {
   "cell_type": "code",
   "execution_count": 7,
   "id": "112dd873",
   "metadata": {},
   "outputs": [
    {
     "name": "stdout",
     "output_type": "stream",
     "text": [
      "SQLite version: ('3.37.2',)\n"
     ]
    }
   ],
   "source": [
    "import sqlite3\n",
    "with sqlite3.connect('customers.db') as conn:\n",
    "    cursor = conn.cursor()\n",
    "    cursor.execute('SELECT SQLITE_VERSION()')\n",
    "    data = cursor.fetchone()\n",
    "    print('SQLite version:', data)"
   ]
  },
  {
   "cell_type": "markdown",
   "id": "aefd94d0",
   "metadata": {},
   "source": [
    "Utworzenie przykładowej tabeli:"
   ]
  },
  {
   "cell_type": "code",
   "execution_count": null,
   "id": "6719f0bc",
   "metadata": {},
   "outputs": [],
   "source": [
    "with sqlite3.connect('students.db') as conn:\n",
    "    cursor = conn.cursor()\n",
    "    cursor.execute('''CREATE TABLE IF NOT EXISTS STUDENTS_DATA\n",
    "                  (STUDENT_ID INT, STUDENT_NAME TEXT, YEAR_FROM INT)''')\n",
    "    conn.commit()"
   ]
  },
  {
   "cell_type": "markdown",
   "id": "63ace9d3",
   "metadata": {},
   "source": [
    "Wstawienie danych:"
   ]
  },
  {
   "cell_type": "code",
   "execution_count": null,
   "id": "c9fcc993",
   "metadata": {},
   "outputs": [],
   "source": [
    "data = [(1, 4.5), (2, 4.0), (3, 4.2)]\n",
    "\n",
    "with sqlite3.connect('students.db') as conn:\n",
    "    cursor = conn.cursor()\n",
    "    for entry in data:\n",
    "        sql_statement = '''INSERT INTO STUDENTS_RESULTS(STUDENT_ID, STUDENT_AVG) VALUES (?, ?) '''\n",
    "        cursor.execute(sql_statement, entry)\n",
    "    conn.commit()\n",
    "    cursor.close()"
   ]
  },
  {
   "cell_type": "markdown",
   "id": "3272ad7c",
   "metadata": {},
   "source": [
    "Zamiana słownika na krotkę:"
   ]
  },
  {
   "cell_type": "code",
   "execution_count": null,
   "id": "3175fadf",
   "metadata": {},
   "outputs": [],
   "source": [
    "dct = {\"customer_id\":'c_100', 'customer_name': 'Adam Kowalski', 'address': 'Warsaw', 'balance': 100, 'pin': 1234}\n",
    "\n",
    "tup = (dct[\"customer_id\"], dct['customer_name'], dct['address'], dct['balance'], dct['pin'])\n",
    "\n",
    "print(tup)"
   ]
  },
  {
   "cell_type": "markdown",
   "id": "ea6b65a5",
   "metadata": {},
   "source": [
    "Odpytywanie o określoną wartość:"
   ]
  },
  {
   "cell_type": "code",
   "execution_count": null,
   "id": "6a5d2489",
   "metadata": {},
   "outputs": [],
   "source": [
    "with sqlite3.connect('students.db') as conn:\n",
    "    # zwroc uwage na przecinek po nazwisku studenta\n",
    "    student = ('PIOTR OSTROWSKI',)\n",
    "    cursor = conn.cursor()\n",
    "    cursor.execute('''SELECT * FROM STUDENTS_DATA WHERE STUDENT_NAME = (?)''', student)\n",
    "    rows = cursor.fetchall()\n",
    "\n",
    "    for row in rows:\n",
    "        print(row)"
   ]
  },
  {
   "cell_type": "markdown",
   "id": "bb83d4b3",
   "metadata": {},
   "source": [
    "Uaktualnienie danych:"
   ]
  },
  {
   "cell_type": "code",
   "execution_count": null,
   "id": "83d276ce",
   "metadata": {},
   "outputs": [],
   "source": [
    "with sqlite3.connect('students.db') as conn:\n",
    "    cursor = conn.cursor()\n",
    "    # uaktualnienie danych\n",
    "    cursor.execute('''UPDATE STUDENTS_DATA \n",
    "                        SET YEAR_FROM = 2003\n",
    "                      WHERE STUDENT_ID=2''')\n",
    "    # wyświetlenie wyników\n",
    "    cursor.execute('''SELECT * FROM STUDENTS_DATA''')\n",
    "    rows = cursor.fetchall()\n",
    "\n",
    "    for row in rows:\n",
    "        print(row)\n",
    "\n",
    "    conn.commit()"
   ]
  }
 ],
 "metadata": {
  "kernelspec": {
   "display_name": "Python 3 (ipykernel)",
   "language": "python",
   "name": "python3"
  },
  "language_info": {
   "codemirror_mode": {
    "name": "ipython",
    "version": 3
   },
   "file_extension": ".py",
   "mimetype": "text/x-python",
   "name": "python",
   "nbconvert_exporter": "python",
   "pygments_lexer": "ipython3",
   "version": "3.9.12"
  }
 },
 "nbformat": 4,
 "nbformat_minor": 5
}
