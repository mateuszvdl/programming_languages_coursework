{
 "cells": [
  {
   "cell_type": "markdown",
   "id": "f3cd2864",
   "metadata": {},
   "source": [
    "# Programowanie obiektowe"
   ]
  },
  {
   "cell_type": "markdown",
   "id": "2127082e",
   "metadata": {},
   "source": [
    "## Podstawy - definiowanie obiektu"
   ]
  },
  {
   "cell_type": "markdown",
   "id": "bcf70b54",
   "metadata": {},
   "source": [
    "Celem programowania obiektowego jest odtworzenie wybranych cech świata rzeczywistego lub fikcyjnego. Pomyślmy o modelu, jaki przyjęli twórcy gry Wiedźmin. "
   ]
  },
  {
   "cell_type": "markdown",
   "id": "09cfdbf2",
   "metadata": {},
   "source": [
    "Załóżmy, że postać jest tworzona z cechami imię, klasa, wiek. Zdefiniuj klasę Hero. Podczas tworzenia bohatera przyjmij tylko parametr imię (name). Pamiętaj o:\n",
    "- słowie kluczowym self w definicji init\n",
    "- słowie kluczowym self w przypisaniu imienia do atrybutu klasy"
   ]
  },
  {
   "cell_type": "code",
   "execution_count": 25,
   "id": "89a219fc",
   "metadata": {},
   "outputs": [],
   "source": [
    "class Hero:\n",
    "    def __init__(self, imię):\n",
    "        self.name=imię"
   ]
  },
  {
   "cell_type": "markdown",
   "id": "13efbbc7",
   "metadata": {},
   "source": [
    "Stwórz obiekt geralt o imieniu Geralt."
   ]
  },
  {
   "cell_type": "code",
   "execution_count": 27,
   "id": "d2f34c58",
   "metadata": {},
   "outputs": [],
   "source": [
    "bohater=Hero(\"Geralt\")"
   ]
  },
  {
   "cell_type": "markdown",
   "id": "35a7df24",
   "metadata": {},
   "source": [
    "Sprawdź jego imię."
   ]
  },
  {
   "cell_type": "code",
   "execution_count": 11,
   "id": "a814766e",
   "metadata": {},
   "outputs": [
    {
     "name": "stdout",
     "output_type": "stream",
     "text": [
      "Geralt\n"
     ]
    }
   ],
   "source": [
    "print(bohater.name)"
   ]
  },
  {
   "cell_type": "markdown",
   "id": "9991e4af",
   "metadata": {},
   "source": [
    "Dodaj pozostałe atrybuty: wiek o wartości domyślnej 30 i klasę (hclass) o wartości domyślnej Witcher"
   ]
  },
  {
   "cell_type": "code",
   "execution_count": 26,
   "id": "0d00f84d",
   "metadata": {},
   "outputs": [],
   "source": [
    "class Hero:\n",
    "    def __init__(self, imię, wiek=30, klasa=\"Witcher\"):\n",
    "        self.name=imię\n",
    "        self.age=wiek\n",
    "        self.hclass=klasa"
   ]
  },
  {
   "cell_type": "markdown",
   "id": "85e5c66c",
   "metadata": {},
   "source": [
    "Zanim utworzysz obiekt - wywołaj wyświetl wiek geralt"
   ]
  },
  {
   "cell_type": "code",
   "execution_count": 28,
   "id": "ad30d4d3",
   "metadata": {},
   "outputs": [
    {
     "name": "stdout",
     "output_type": "stream",
     "text": [
      "30\n"
     ]
    }
   ],
   "source": [
    "print(bohater.age)"
   ]
  },
  {
   "cell_type": "markdown",
   "id": "33fd9b20",
   "metadata": {},
   "source": [
    "Utwórz obiekt ponownie z tym samym atrybutem co wcześniej"
   ]
  },
  {
   "cell_type": "code",
   "execution_count": 30,
   "id": "a771a55e",
   "metadata": {},
   "outputs": [],
   "source": [
    "bohater=Hero(\"Geralt\")"
   ]
  },
  {
   "cell_type": "markdown",
   "id": "e1ebb490",
   "metadata": {},
   "source": [
    "Sprawdź wiek bohatera."
   ]
  },
  {
   "cell_type": "code",
   "execution_count": 31,
   "id": "eb96891c",
   "metadata": {},
   "outputs": [
    {
     "name": "stdout",
     "output_type": "stream",
     "text": [
      "30\n"
     ]
    }
   ],
   "source": [
    "print(bohater.age)"
   ]
  },
  {
   "cell_type": "markdown",
   "id": "c3b79ec2",
   "metadata": {},
   "source": [
    "Stwórz bohatera Geralt w wieku 25 lat i sprawdź wiek:"
   ]
  },
  {
   "cell_type": "code",
   "execution_count": 32,
   "id": "efd41f50",
   "metadata": {},
   "outputs": [],
   "source": [
    "bohater=Hero(\"Geralt\", 25)"
   ]
  },
  {
   "cell_type": "code",
   "execution_count": 33,
   "id": "573e591d",
   "metadata": {},
   "outputs": [
    {
     "name": "stdout",
     "output_type": "stream",
     "text": [
      "25\n"
     ]
    }
   ],
   "source": [
    "print(bohater.age)"
   ]
  },
  {
   "cell_type": "markdown",
   "id": "0a0d7896",
   "metadata": {},
   "source": [
    "Zamiast 25 użyj słowa witcher. Stwórz ponownie postać i sprawdź jej wiek:"
   ]
  },
  {
   "cell_type": "code",
   "execution_count": 35,
   "id": "a65e2259",
   "metadata": {},
   "outputs": [],
   "source": [
    "bohater=Hero(\"Geralt\", \"Witcher\")"
   ]
  },
  {
   "cell_type": "code",
   "execution_count": 36,
   "id": "d9db1dbe",
   "metadata": {},
   "outputs": [
    {
     "name": "stdout",
     "output_type": "stream",
     "text": [
      "Witcher\n"
     ]
    }
   ],
   "source": [
    "print(bohater.age)"
   ]
  },
  {
   "cell_type": "markdown",
   "id": "37da76c9",
   "metadata": {},
   "source": [
    "Czy to jest oczekiwane działanie?"
   ]
  },
  {
   "cell_type": "markdown",
   "id": "e0ce5b1c",
   "metadata": {},
   "source": [
    "## Hermetyzacja"
   ]
  },
  {
   "cell_type": "markdown",
   "id": "d3bb06dd",
   "metadata": {},
   "source": [
    "W praktyce nie chcemy, żeby ktoś wykorzystujący tę klasę (czyli inny programista) zmieniał sobie ten atrybut dowolnie. Stąd wykorzystujemy metody do operacji get/set."
   ]
  },
  {
   "cell_type": "markdown",
   "id": "7470daff",
   "metadata": {},
   "source": [
    "Napisz metodę, która ustawi wiek bohatera. Pamiętaj o słowie kluczowym self w dwóch miejscach"
   ]
  },
  {
   "cell_type": "code",
   "execution_count": 44,
   "id": "32c820a4",
   "metadata": {},
   "outputs": [],
   "source": [
    "class Hero:\n",
    "    def __init__(self, imię, wiek=30, klasa=\"Witcher\"):\n",
    "        self.name=imię\n",
    "        self.__age=wiek\n",
    "        self.hclass=klasa\n",
    "        \n",
    "    def set_wiek(self,jaar):\n",
    "        self.__age=jaar\n",
    "    def get_wiek(self):\n",
    "        print(self.__age)"
   ]
  },
  {
   "cell_type": "markdown",
   "id": "1d52c302",
   "metadata": {},
   "source": [
    "Przetestuj metodę."
   ]
  },
  {
   "cell_type": "code",
   "execution_count": 45,
   "id": "463cf450",
   "metadata": {},
   "outputs": [],
   "source": [
    "bohater=Hero(\"Geralt\", 30)\n",
    "bohater.__age=20"
   ]
  },
  {
   "cell_type": "code",
   "execution_count": 46,
   "id": "25400eab",
   "metadata": {},
   "outputs": [
    {
     "name": "stdout",
     "output_type": "stream",
     "text": [
      "30\n",
      "None\n"
     ]
    }
   ],
   "source": [
    "print(bohater.get_wiek())"
   ]
  },
  {
   "cell_type": "markdown",
   "id": "5af14f06",
   "metadata": {},
   "source": [
    "Dla chętnych: zmodyfikuj metodę, żeby sprawdzała, czy wprowadzony wiek był liczbą w zakresie 16-80."
   ]
  },
  {
   "cell_type": "markdown",
   "id": "e3973c75",
   "metadata": {},
   "source": [
    "Do inita dodaj atrybut level o wartości początkowej 1. Dodaj metodę level_up, która zwiększy wartość poziomu o 1. Jakie parametry wejściowe powinna mieć ta metoda?"
   ]
  },
  {
   "cell_type": "code",
   "execution_count": 52,
   "id": "378d82b3",
   "metadata": {},
   "outputs": [],
   "source": [
    "class Hero:\n",
    "    def __init__(self, imię, wiek=30, klasa=\"Witcher\"):\n",
    "        self.name=imię\n",
    "        self.__age=wiek\n",
    "        self.hclass=klasa\n",
    "        self.level=1\n",
    "        \n",
    "    def set_wiek(self,jaar):\n",
    "        self.__age=jaar\n",
    "    def get_wiek(self):\n",
    "        print(self.__age)\n",
    "    def level_up(self):\n",
    "        self.level=self.level+1"
   ]
  },
  {
   "cell_type": "code",
   "execution_count": 54,
   "id": "60d18bc0",
   "metadata": {},
   "outputs": [
    {
     "name": "stdout",
     "output_type": "stream",
     "text": [
      "1\n",
      "---\n",
      "2\n"
     ]
    }
   ],
   "source": [
    "bohater=Hero(\"Geralt\", 30)\n",
    "print(bohater.level)\n",
    "print(\"---\")\n",
    "bohater.level_up()\n",
    "print(bohater.level)"
   ]
  },
  {
   "cell_type": "markdown",
   "id": "2104d5d0",
   "metadata": {},
   "source": [
    "## Abstrakcja"
   ]
  },
  {
   "cell_type": "markdown",
   "id": "5c6402cf",
   "metadata": {},
   "source": [
    "Do atrybutów bohatera dodaj siłę (power) i wiedzę (knowledge). W init dodaj ustawianie tych parametrów odpowiednio:\n",
    "- 1 i 3, kiedy klasa bohatera to witcher\n",
    "- 3 i 1, kiedy klasa bohatera to warrior\n",
    "- 2 i 2, w przeciwnym przypadku\n",
    "\n",
    "Dodaj także atrybut points_to_spend o wartości początkowej 0."
   ]
  },
  {
   "cell_type": "code",
   "execution_count": 64,
   "id": "2a2b3439",
   "metadata": {},
   "outputs": [],
   "source": [
    "class Hero:\n",
    "    def __init__(self, imię, wiek=30, klasa=\"Witcher\"):\n",
    "        self.name=imię\n",
    "        self.__age=wiek\n",
    "        self.hclass=klasa\n",
    "        self.level=1\n",
    "        self.points_to_spend=0\n",
    "        \n",
    "        if self.hclass==\"Witcher\":\n",
    "            self.power=1\n",
    "            self.knowledge=3\n",
    "        elif self.hclass==\"Warrior\": \n",
    "            self.power=3\n",
    "            self.knowledge=1\n",
    "        else: \n",
    "            self.power=2\n",
    "            self.knowledge=2\n",
    "        \n",
    "    def set_wiek(self,jaar):\n",
    "        self.__age=jaar\n",
    "    def get_wiek(self):\n",
    "        print(self.__age)\n",
    "    def level_up(self):\n",
    "        self.level=self.level+1"
   ]
  },
  {
   "cell_type": "markdown",
   "id": "eccfbbf5",
   "metadata": {},
   "source": [
    "Zmodyfikuj metodę level_up:\n",
    "- Jeżeli klasa to witcher, to + 1 do siły, + 2 do wiedzy, oraz + 5 do wydania\n",
    "- Jeżeli klasa to warrior, to + 3 do siły, + 1 do wiedzy, oraz + 4 do wydania\n",
    "- W p. p. + 2 do siły, + 2 do wiedzy, oraz + 4 do wydania"
   ]
  },
  {
   "cell_type": "code",
   "execution_count": 67,
   "id": "55028a20",
   "metadata": {},
   "outputs": [],
   "source": [
    "class Hero:\n",
    "    def __init__(self, imię, wiek=30, klasa=\"Witcher\"):\n",
    "        self.name=imię\n",
    "        self.__age=wiek\n",
    "        self.hclass=klasa\n",
    "        self.level=1\n",
    "        self.points_to_spend=0\n",
    "        \n",
    "        if self.hclass==\"Witcher\":\n",
    "            self.power=1\n",
    "            self.knowledge=3\n",
    "        elif self.hclass==\"Warrior\": \n",
    "            self.power=3\n",
    "            self.knowledge=1\n",
    "        else: \n",
    "            self.power=2\n",
    "            self.knowledge=2\n",
    "        \n",
    "    def set_wiek(self,jaar):\n",
    "        self.__age=jaar\n",
    "    def get_wiek(self):\n",
    "        print(self.__age)\n",
    "    def level_up(self):\n",
    "        self.level=self.level+1\n",
    "        if self.hclass==\"Witcher\":\n",
    "            self.power+=1\n",
    "            self.knowledge+=2\n",
    "            self.points_to_spend+=5\n",
    "        elif self.hclass==\"Warrior\": \n",
    "            self.power+=3\n",
    "            self.knowledge+=1\n",
    "            self.points_to_spend+=4\n",
    "        else: \n",
    "            self.power+=2\n",
    "            self.knowledge+=2\n",
    "            self.points_to_spend+=4"
   ]
  },
  {
   "cell_type": "markdown",
   "id": "4553d7d1",
   "metadata": {},
   "source": [
    "Przetestuj kod."
   ]
  },
  {
   "cell_type": "code",
   "execution_count": 69,
   "id": "409b1ea3",
   "metadata": {},
   "outputs": [
    {
     "name": "stdout",
     "output_type": "stream",
     "text": [
      "1 1\n",
      "---\n",
      "2 2\n"
     ]
    }
   ],
   "source": [
    "bohater=Hero(\"Geralt\", 30)\n",
    "print(bohater.level, bohater.power)\n",
    "print(\"---\")\n",
    "bohater.level_up()\n",
    "print(bohater.level, bohater.power)"
   ]
  },
  {
   "cell_type": "markdown",
   "id": "164e40be",
   "metadata": {},
   "source": [
    "Dodaj dwa nowe atrybuty:\n",
    "- experience o wartości początkowej 0\n",
    "- next_level o wartości początkowej 1000"
   ]
  },
  {
   "cell_type": "code",
   "execution_count": 70,
   "id": "452f1689",
   "metadata": {},
   "outputs": [],
   "source": [
    "class Hero:\n",
    "    def __init__(self, imię, wiek=30, klasa=\"Witcher\"):\n",
    "        self.name=imię\n",
    "        self.__age=wiek\n",
    "        self.hclass=klasa\n",
    "        self.level=1\n",
    "        self.points_to_spend=0\n",
    "        self.experience=0\n",
    "        self.next_level=1000\n",
    "        \n",
    "        if self.hclass==\"Witcher\":\n",
    "            self.power=1\n",
    "            self.knowledge=3\n",
    "        elif self.hclass==\"Warrior\": \n",
    "            self.power=3\n",
    "            self.knowledge=1\n",
    "        else: \n",
    "            self.power=2\n",
    "            self.knowledge=2\n",
    "        \n",
    "    def set_wiek(self,jaar):\n",
    "        self.__age=jaar\n",
    "    def get_wiek(self):\n",
    "        print(self.__age)\n",
    "    def level_up(self):\n",
    "        self.level=self.level+1\n",
    "        if self.hclass==\"Witcher\":\n",
    "            self.power+=1\n",
    "            self.knowledge+=2\n",
    "            self.points_to_spend+=5\n",
    "        elif self.hclass==\"Warrior\": \n",
    "            self.power+=3\n",
    "            self.knowledge+=1\n",
    "            self.points_to_spend+=4\n",
    "        else: \n",
    "            self.power+=2\n",
    "            self.knowledge+=2\n",
    "            self.points_to_spend+=4"
   ]
  },
  {
   "cell_type": "markdown",
   "id": "2239b51c",
   "metadata": {},
   "source": [
    "Napisz metodę add_experience, która:\n",
    "- przyjmie określoną liczbę punktów\n",
    "- doda te punkty do doświadczenia\n",
    "- jeżeli experience przekroczy next level:\n",
    "  - to experience przyjmie wartość różnicy pomiędzy experience a next level\n",
    "  - next_level przyjmie wartość next_level razy dwa\n",
    "  - zostanie podniesiony poziom"
   ]
  },
  {
   "cell_type": "code",
   "execution_count": 82,
   "id": "3cc3dbbb",
   "metadata": {},
   "outputs": [
    {
     "name": "stdout",
     "output_type": "stream",
     "text": [
      "1 1\n",
      "---\n",
      "2 2\n"
     ]
    }
   ],
   "source": [
    "class Hero:\n",
    "    def __init__(self, imię, wiek=30, klasa=\"Witcher\"):\n",
    "        self.name=imię\n",
    "        self.__age=wiek\n",
    "        self.hclass=klasa\n",
    "        self.level=1\n",
    "        self.points_to_spend=0\n",
    "        self.experience=0\n",
    "        self.next_level=1000\n",
    "        \n",
    "        if self.hclass==\"Witcher\":\n",
    "            self.power=1\n",
    "            self.knowledge=3\n",
    "        elif self.hclass==\"Warrior\": \n",
    "            self.power=3\n",
    "            self.knowledge=1\n",
    "        else: \n",
    "            self.power=2\n",
    "            self.knowledge=2\n",
    "        \n",
    "    def set_wiek(self,jaar):\n",
    "        self.__age=jaar\n",
    "    def get_wiek(self):\n",
    "        print(self.__age)\n",
    "    def level_up(self):\n",
    "        self.level=self.level+1\n",
    "        if self.hclass==\"Witcher\":\n",
    "            self.power+=1\n",
    "            self.knowledge+=2\n",
    "            self.points_to_spend+=5\n",
    "        elif self.hclass==\"Warrior\": \n",
    "            self.power+=3\n",
    "            self.knowledge+=1\n",
    "            self.points_to_spend+=4\n",
    "        else: \n",
    "            self.power+=2\n",
    "            self.knowledge+=2\n",
    "            self.points_to_spend+=4\n",
    "            \n",
    "    def add_experience(self,howmuch):\n",
    "        self.experience+=howmuch\n",
    "        if self.experience>self.next_level:\n",
    "            self.experience=self.experience-self.next_level\n",
    "            self.next_level=2*self.next_level\n",
    "            self.level_up()\n",
    "            \n",
    "bohater=Hero(\"Geralt\", 30)\n",
    "print(bohater.level, bohater.power)\n",
    "print(\"---\")\n",
    "bohater.add_experience(99999)\n",
    "print(bohater.level, bohater.power)"
   ]
  },
  {
   "cell_type": "markdown",
   "id": "68ca2b5e",
   "metadata": {},
   "source": [
    "## Kontrola dostępu"
   ]
  },
  {
   "cell_type": "markdown",
   "id": "7e545e7a",
   "metadata": {},
   "source": [
    "Zmień nazwę parametru age na _age."
   ]
  },
  {
   "cell_type": "code",
   "execution_count": 86,
   "id": "3707b937",
   "metadata": {},
   "outputs": [
    {
     "name": "stdout",
     "output_type": "stream",
     "text": [
      "1 1\n",
      "---\n",
      "2 2\n"
     ]
    }
   ],
   "source": [
    "class Hero:\n",
    "    def __init__(self, imię, wiek=30, klasa=\"Witcher\"):\n",
    "        self.name=imię\n",
    "        self._age=wiek\n",
    "        self.hclass=klasa\n",
    "        self.level=1\n",
    "        self.points_to_spend=0\n",
    "        self.experience=0\n",
    "        self.next_level=1000\n",
    "        \n",
    "        if self.hclass==\"Witcher\":\n",
    "            self.power=1\n",
    "            self.knowledge=3\n",
    "        elif self.hclass==\"Warrior\": \n",
    "            self.power=3\n",
    "            self.knowledge=1\n",
    "        else: \n",
    "            self.power=2\n",
    "            self.knowledge=2\n",
    "        \n",
    "    def set_wiek(self,jaar):\n",
    "        self._age=jaar\n",
    "    def get_wiek(self):\n",
    "        print(self._age)\n",
    "    def level_up(self):\n",
    "        self.level=self.level+1\n",
    "        if self.hclass==\"Witcher\":\n",
    "            self.power+=1\n",
    "            self.knowledge+=2\n",
    "            self.points_to_spend+=5\n",
    "        elif self.hclass==\"Warrior\": \n",
    "            self.power+=3\n",
    "            self.knowledge+=1\n",
    "            self.points_to_spend+=4\n",
    "        else: \n",
    "            self.power+=2\n",
    "            self.knowledge+=2\n",
    "            self.points_to_spend+=4\n",
    "            \n",
    "    def add_experience(self,howmuch):\n",
    "        self.experience+=howmuch\n",
    "        if self.experience>self.next_level:\n",
    "            self.experience=self.experience-self.next_level\n",
    "            self.next_level=2*self.next_level\n",
    "            self.level_up()\n",
    "            \n",
    "bohater=Hero(\"Geralt\", 30)\n",
    "print(bohater.level, bohater.power)\n",
    "print(\"---\")\n",
    "bohater.add_experience(99999)\n",
    "print(bohater.level, bohater.power)"
   ]
  },
  {
   "cell_type": "markdown",
   "id": "69efc778",
   "metadata": {},
   "source": [
    "Sprawdź, czy możesz go zaktualizować (poprzez zmianę wartości)."
   ]
  },
  {
   "cell_type": "code",
   "execution_count": 87,
   "id": "5a021a75",
   "metadata": {},
   "outputs": [
    {
     "name": "stdout",
     "output_type": "stream",
     "text": [
      "12\n"
     ]
    }
   ],
   "source": [
    "bohater=Hero(\"Geralt\", 30)\n",
    "bohater.__age=12\n",
    "print(bohater.__age)"
   ]
  },
  {
   "cell_type": "markdown",
   "id": "9e09a5e9",
   "metadata": {},
   "source": [
    "Zmień nazwę tego parametru na \\_\\_age i sprawdź, czy możesz go zmienić."
   ]
  },
  {
   "cell_type": "code",
   "execution_count": 90,
   "id": "167eca43",
   "metadata": {},
   "outputs": [
    {
     "name": "stdout",
     "output_type": "stream",
     "text": [
      "1 1\n",
      "---\n",
      "2 2\n"
     ]
    }
   ],
   "source": [
    "class Hero:\n",
    "    def __init__(self, imię, wiek=30, klasa=\"Witcher\"):\n",
    "        self.name=imię\n",
    "        self.__age=wiek\n",
    "        self.hclass=klasa\n",
    "        self.level=1\n",
    "        self.points_to_spend=0\n",
    "        self.experience=0\n",
    "        self.next_level=1000\n",
    "        \n",
    "        if self.hclass==\"Witcher\":\n",
    "            self.power=1\n",
    "            self.knowledge=3\n",
    "        elif self.hclass==\"Warrior\": \n",
    "            self.power=3\n",
    "            self.knowledge=1\n",
    "        else: \n",
    "            self.power=2\n",
    "            self.knowledge=2\n",
    "        \n",
    "    def set_wiek(self,jaar):\n",
    "        self.__age=jaar\n",
    "    def get_wiek(self):\n",
    "        print(self.__age)\n",
    "    def level_up(self):\n",
    "        self.level=self.level+1\n",
    "        if self.hclass==\"Witcher\":\n",
    "            self.power+=1\n",
    "            self.knowledge+=2\n",
    "            self.points_to_spend+=5\n",
    "        elif self.hclass==\"Warrior\": \n",
    "            self.power+=3\n",
    "            self.knowledge+=1\n",
    "            self.points_to_spend+=4\n",
    "        else: \n",
    "            self.power+=2\n",
    "            self.knowledge+=2\n",
    "            self.points_to_spend+=4\n",
    "            \n",
    "    def add_experience(self,howmuch):\n",
    "        self.experience+=howmuch\n",
    "        if self.experience>self.next_level:\n",
    "            self.experience=self.experience-self.next_level\n",
    "            self.next_level=2*self.next_level\n",
    "            self.level_up()\n",
    "            \n",
    "bohater=Hero(\"Geralt\", 30)\n",
    "print(bohater.level, bohater.power)\n",
    "print(\"---\")\n",
    "bohater.add_experience(99999)\n",
    "print(bohater.level, bohater.power)"
   ]
  },
  {
   "cell_type": "markdown",
   "id": "672da308",
   "metadata": {},
   "source": [
    "Wykorzystaj obejście (przedstawione na wykładzie) i zmień jego wartość."
   ]
  },
  {
   "cell_type": "code",
   "execution_count": 92,
   "id": "d5cf241f",
   "metadata": {},
   "outputs": [
    {
     "name": "stdout",
     "output_type": "stream",
     "text": [
      "1 1\n",
      "---\n",
      "2 2\n"
     ]
    }
   ],
   "source": [
    "class Hero:\n",
    "    def __init__(self, imię, wiek=30, klasa=\"Witcher\"):\n",
    "        self.name=imię\n",
    "        self.__age=wiek\n",
    "        self.hclass=klasa\n",
    "        self.level=1\n",
    "        self.points_to_spend=0\n",
    "        self.experience=0\n",
    "        self.next_level=1000\n",
    "        \n",
    "        if self.hclass==\"Witcher\":\n",
    "            self.power=1\n",
    "            self.knowledge=3\n",
    "        elif self.hclass==\"Warrior\": \n",
    "            self.power=3\n",
    "            self.knowledge=1\n",
    "        else: \n",
    "            self.power=2\n",
    "            self.knowledge=2\n",
    "        \n",
    "    def set_wiek(self,jaar):\n",
    "        self.__age=jaar\n",
    "    def get_wiek(self):\n",
    "        print(self.__age)\n",
    "    def level_up(self):\n",
    "        self.level=self.level+1\n",
    "        if self.hclass==\"Witcher\":\n",
    "            self.power+=1\n",
    "            self.knowledge+=2\n",
    "            self.points_to_spend+=5\n",
    "        elif self.hclass==\"Warrior\": \n",
    "            self.power+=3\n",
    "            self.knowledge+=1\n",
    "            self.points_to_spend+=4\n",
    "        else: \n",
    "            self.power+=2\n",
    "            self.knowledge+=2\n",
    "            self.points_to_spend+=4\n",
    "    \n",
    "    def obejscie_level(self):\\\n",
    "        self.__level_up()\n",
    "    def add_experience(self,howmuch):\n",
    "        self.experience+=howmuch\n",
    "        if self.experience>self.next_level:\n",
    "            self.experience=self.experience-self.next_level\n",
    "            self.next_level=2*self.next_level\n",
    "            self.level_up()\n",
    "            \n",
    "bohater=Hero(\"Geralt\", 30)\n",
    "print(bohater.level, bohater.power)\n",
    "print(\"---\")\n",
    "bohater.add_experience(99999)\n",
    "print(bohater.level, bohater.power)"
   ]
  },
  {
   "cell_type": "markdown",
   "id": "343cacd2",
   "metadata": {},
   "source": [
    "Zmień nazwę metody level_up na \\_\\_level_up. Dokonaj odpowiednich uaktualnień w kodzie"
   ]
  },
  {
   "cell_type": "code",
   "execution_count": 91,
   "id": "87f77460",
   "metadata": {},
   "outputs": [
    {
     "name": "stdout",
     "output_type": "stream",
     "text": [
      "1 1\n",
      "---\n",
      "2 2\n"
     ]
    }
   ],
   "source": [
    "class Hero:\n",
    "    def __init__(self, imię, wiek=30, klasa=\"Witcher\"):\n",
    "        self.name=imię\n",
    "        self.__age=wiek\n",
    "        self.hclass=klasa\n",
    "        self.level=1\n",
    "        self.points_to_spend=0\n",
    "        self.experience=0\n",
    "        self.next_level=1000\n",
    "        \n",
    "        if self.hclass==\"Witcher\":\n",
    "            self.power=1\n",
    "            self.knowledge=3\n",
    "        elif self.hclass==\"Warrior\": \n",
    "            self.power=3\n",
    "            self.knowledge=1\n",
    "        else: \n",
    "            self.power=2\n",
    "            self.knowledge=2\n",
    "        \n",
    "    def set_wiek(self,jaar):\n",
    "        self.__age=jaar\n",
    "    def get_wiek(self):\n",
    "        print(self.__age)\n",
    "    def __level_up(self):\n",
    "        self.level=self.level+1\n",
    "        if self.hclass==\"Witcher\":\n",
    "            self.power+=1\n",
    "            self.knowledge+=2\n",
    "            self.points_to_spend+=5\n",
    "        elif self.hclass==\"Warrior\": \n",
    "            self.power+=3\n",
    "            self.knowledge+=1\n",
    "            self.points_to_spend+=4\n",
    "        else: \n",
    "            self.power+=2\n",
    "            self.knowledge+=2\n",
    "            self.points_to_spend+=4\n",
    "            \n",
    "    def add_experience(self,howmuch):\n",
    "        self.experience+=howmuch\n",
    "        if self.experience>self.next_level:\n",
    "            self.experience=self.experience-self.next_level\n",
    "            self.next_level=2*self.next_level\n",
    "            self.__level_up()\n",
    "            \n",
    "bohater=Hero(\"Geralt\", 30)\n",
    "print(bohater.level, bohater.power)\n",
    "print(\"---\")\n",
    "bohater.add_experience(99999)\n",
    "print(bohater.level, bohater.power)"
   ]
  },
  {
   "cell_type": "markdown",
   "id": "ef0d6248",
   "metadata": {},
   "source": [
    "Które parametry i metody powinny być chronione?"
   ]
  },
  {
   "cell_type": "code",
   "execution_count": 93,
   "id": "47171308",
   "metadata": {},
   "outputs": [],
   "source": [
    "#Parametry i metody, które twórca (np.postaci) ustawił i nie chce, aby zostały później zmienione"
   ]
  },
  {
   "cell_type": "code",
   "execution_count": null,
   "id": "a9634e13",
   "metadata": {},
   "outputs": [],
   "source": []
  }
 ],
 "metadata": {
  "kernelspec": {
   "display_name": "Python 3 (ipykernel)",
   "language": "python",
   "name": "python3"
  },
  "language_info": {
   "codemirror_mode": {
    "name": "ipython",
    "version": 3
   },
   "file_extension": ".py",
   "mimetype": "text/x-python",
   "name": "python",
   "nbconvert_exporter": "python",
   "pygments_lexer": "ipython3",
   "version": "3.9.12"
  }
 },
 "nbformat": 4,
 "nbformat_minor": 5
}
