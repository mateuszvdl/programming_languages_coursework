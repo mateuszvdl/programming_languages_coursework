{
 "cells": [
  {
   "cell_type": "markdown",
   "id": "a7453141",
   "metadata": {},
   "source": [
    "# Programowanie obiektowe 2"
   ]
  },
  {
   "cell_type": "markdown",
   "id": "5ee75689",
   "metadata": {},
   "source": [
    "## Wczytywanie danych użytkownika"
   ]
  },
  {
   "cell_type": "markdown",
   "id": "516eb03d",
   "metadata": {},
   "source": [
    "Utwórz plik customer_data.json w tym samym folderze, co ten notatnik. Zawartość pliku poniżej i na końcu pliku."
   ]
  },
  {
   "cell_type": "code",
   "execution_count": 1,
   "id": "56962c00",
   "metadata": {},
   "outputs": [
    {
     "data": {
      "text/plain": [
       "{'c_100': {'customer_name': 'Adam Kowalski',\n",
       "  'address': 'Warsaw',\n",
       "  'balance': 100,\n",
       "  'pin': 1234},\n",
       " 'c_101': {'customer_name': 'Adam'}}"
      ]
     },
     "execution_count": 1,
     "metadata": {},
     "output_type": "execute_result"
    }
   ],
   "source": [
    "{\n",
    "    \"c_100\": {\n",
    "        \"customer_name\": \"Adam Kowalski\",\n",
    "        \"address\": \"Warsaw\",\n",
    "        \"balance\": 100,\n",
    "        \"pin\": 1234\n",
    "    },\n",
    "    \"c_101\": {\n",
    "        \"customer_name\": \"Adam\"\n",
    "    }\n",
    "}"
   ]
  },
  {
   "cell_type": "markdown",
   "id": "f07977f7",
   "metadata": {},
   "source": [
    "Zapoznaj się z poniższym kodem:"
   ]
  },
  {
   "cell_type": "code",
   "execution_count": 2,
   "id": "44d5036d",
   "metadata": {},
   "outputs": [],
   "source": [
    "import json\n",
    "file_content={}\n",
    "with open('customer_data.json', 'r') as file:\n",
    "     file_content = json.load(file)"
   ]
  },
  {
   "cell_type": "code",
   "execution_count": 3,
   "id": "94b15e7b",
   "metadata": {},
   "outputs": [
    {
     "name": "stdout",
     "output_type": "stream",
     "text": [
      "Adam Kowalski\n"
     ]
    }
   ],
   "source": [
    "print(file_content[\"c_100\"][\"customer_name\"])"
   ]
  },
  {
   "cell_type": "code",
   "execution_count": 4,
   "id": "70122e86",
   "metadata": {},
   "outputs": [
    {
     "name": "stdout",
     "output_type": "stream",
     "text": [
      "1234\n"
     ]
    }
   ],
   "source": [
    "print(file_content[\"c_100\"][\"pin\"])"
   ]
  },
  {
   "cell_type": "markdown",
   "id": "e6abb4d8",
   "metadata": {},
   "source": [
    "Napisz kod (jedna linijka - czytanie słownika), który wyświetli słownik dla określonego klucza, czyli po podaniu 'c_100' zobaczymy {'customer_name': 'Adam Kowalski', 'address': 'Warsaw', 'balance': 100}. W razie problemów zajrzyj do części Ściągawka na końcu tego zeszytu."
   ]
  },
  {
   "cell_type": "code",
   "execution_count": 5,
   "id": "b30b9a3b",
   "metadata": {},
   "outputs": [
    {
     "name": "stdout",
     "output_type": "stream",
     "text": [
      "{'customer_name': 'Adam Kowalski', 'address': 'Warsaw', 'balance': 100, 'pin': 1234}\n"
     ]
    }
   ],
   "source": [
    "print(file_content[\"c_100\"])"
   ]
  },
  {
   "cell_type": "markdown",
   "id": "f1e05fc4",
   "metadata": {},
   "source": [
    "Napisz funkcję - get_customer_data, która:\n",
    "- Przyjmie parametr wejściowy customer_id\n",
    "- Odczyta plik\n",
    "- Jeżeli go znajdzie (customer_id in file_content), zwróci słownik dla zadanego klucza. \n",
    "- Jeżeli nie znajdzie go - obsłuż wyjątek (try-except)"
   ]
  },
  {
   "cell_type": "code",
   "execution_count": 6,
   "id": "3556afa2",
   "metadata": {},
   "outputs": [],
   "source": [
    "import json\n",
    "def get_customer_data(customer_id):\n",
    "    file_content={}\n",
    "    with open('customer_data.json', 'r') as file:\n",
    "        file_content = json.load(file)\n",
    "        try:\n",
    "            return file_content[customer_id]\n",
    "        except:\n",
    "            print(\"Nie istnieje\")\n",
    "            return None"
   ]
  },
  {
   "cell_type": "markdown",
   "id": "3a3b2607",
   "metadata": {},
   "source": [
    "Przetestuj funkcję dla obydwu przypadków."
   ]
  },
  {
   "cell_type": "code",
   "execution_count": 7,
   "id": "c197db9f",
   "metadata": {},
   "outputs": [
    {
     "name": "stdout",
     "output_type": "stream",
     "text": [
      "{'customer_name': 'Adam Kowalski', 'address': 'Warsaw', 'balance': 100, 'pin': 1234}\n"
     ]
    }
   ],
   "source": [
    "# testowanie pomyślnego przypadku\n",
    "\n",
    "get=get_customer_data(\"c_100\")\n",
    "print(get)"
   ]
  },
  {
   "cell_type": "code",
   "execution_count": 8,
   "id": "67e83b63",
   "metadata": {},
   "outputs": [
    {
     "name": "stdout",
     "output_type": "stream",
     "text": [
      "Nie istnieje\n",
      "None\n"
     ]
    }
   ],
   "source": [
    "# testowanie negatywnego przypadku - powinien wystąpić wyjątek\n",
    "\n",
    "get=get_customer_data(\"c_110\")\n",
    "print(get)"
   ]
  },
  {
   "cell_type": "markdown",
   "id": "d8f54265",
   "metadata": {},
   "source": [
    "## Klasa Customer"
   ]
  },
  {
   "cell_type": "markdown",
   "id": "9d081755",
   "metadata": {},
   "source": [
    "Napisz klasę Customer, która będzie miała customer_id, customer_name, address, balance i pin jako atrybuty:"
   ]
  },
  {
   "cell_type": "code",
   "execution_count": 9,
   "id": "4d471c87",
   "metadata": {},
   "outputs": [],
   "source": [
    "# class Customer\n",
    "\n",
    "class Customer:\n",
    "    def __init__(self, customer_id=0, imię=\"Kowalski\", adres=\"Berlin\", środki=0, numer=1111):\n",
    "        self.customer_id=customer_id\n",
    "        self.customer_name=imię\n",
    "        self.address=adres\n",
    "        self.balance=środki\n",
    "        self.pin=numer"
   ]
  },
  {
   "cell_type": "markdown",
   "id": "84d8ae5b",
   "metadata": {},
   "source": [
    "Przetestuj klasę."
   ]
  },
  {
   "cell_type": "code",
   "execution_count": 10,
   "id": "47a5491b",
   "metadata": {},
   "outputs": [
    {
     "name": "stdout",
     "output_type": "stream",
     "text": [
      "c_100 100\n"
     ]
    }
   ],
   "source": [
    "CustomerOne=Customer(\"c_100\",\"Marek\",\"Warszawa\",100,1212)\n",
    "print(CustomerOne.customer_id, CustomerOne.balance)"
   ]
  },
  {
   "cell_type": "markdown",
   "id": "3fdf9e6a",
   "metadata": {},
   "source": [
    "Napisz funkcję get_customer_object, która:\n",
    "- przyjmie customer_id\n",
    "- wywoła get_customer_data, celem pobrania danych\n",
    "- utworzy obiekt Customer, podając odpowiednie dane"
   ]
  },
  {
   "cell_type": "code",
   "execution_count": 11,
   "id": "e9097ad2",
   "metadata": {},
   "outputs": [],
   "source": [
    "# get_customer_object\n",
    "\n",
    "def get_customer_object(customer_id):\n",
    "    data=get_customer_data(customer_id)\n",
    "    \n",
    "    obj=Customer(customer_id, data[\"customer_name\"], data[\"address\"], data[\"balance\"], data[\"pin\"])\n",
    "    return obj"
   ]
  },
  {
   "cell_type": "markdown",
   "id": "ddb1dad6",
   "metadata": {},
   "source": [
    "Przetestuj działanie funkcji."
   ]
  },
  {
   "cell_type": "code",
   "execution_count": 12,
   "id": "98facc84",
   "metadata": {},
   "outputs": [],
   "source": [
    "# stwórz obiekt o nazwie customer na podstawie klasy Customer\n",
    "\n",
    "customer=Customer()"
   ]
  },
  {
   "cell_type": "code",
   "execution_count": 13,
   "id": "3efb47e8",
   "metadata": {},
   "outputs": [
    {
     "name": "stdout",
     "output_type": "stream",
     "text": [
      "1111\n"
     ]
    }
   ],
   "source": [
    "# wyświetl np. pin lub balance - sprawdź, czy poprawnie wyświetlają się dane\n",
    "\n",
    "print(customer.pin)"
   ]
  },
  {
   "cell_type": "markdown",
   "id": "a48a0142",
   "metadata": {},
   "source": [
    "Dodaj blok try-except: \n",
    "- jeżeli nie wystąpi wyjątek, to zwróć klienta\n",
    "- w p.p. wyświetl komunikat o błędzie (np. Error with fetching customer data) i zwróć None"
   ]
  },
  {
   "cell_type": "code",
   "execution_count": 14,
   "id": "336e17db",
   "metadata": {},
   "outputs": [],
   "source": [
    "# get_customer_object\n",
    "\n",
    "def get_customer_object(customer_id):\n",
    "    try:\n",
    "        data=get_customer_data(customer_id)\n",
    "        obj=Customer(customer_id, data[\"customer_name\"], data[\"address\"], data[\"balance\"], data[\"pin\"])\n",
    "    except:\n",
    "        print(\"Not enough data sorry\")\n",
    "        obj=None\n",
    "    return obj"
   ]
  },
  {
   "cell_type": "markdown",
   "id": "e5d8ab5b",
   "metadata": {},
   "source": [
    "Przetestuj kod dla c_100, c_101 i c_102:"
   ]
  },
  {
   "cell_type": "code",
   "execution_count": 15,
   "id": "0b809536",
   "metadata": {},
   "outputs": [
    {
     "name": "stdout",
     "output_type": "stream",
     "text": [
      "100\n"
     ]
    }
   ],
   "source": [
    "# c_100\n",
    "\n",
    "obj1=get_customer_object(\"c_100\")\n",
    "print(obj1.balance)"
   ]
  },
  {
   "cell_type": "code",
   "execution_count": 16,
   "id": "cc7f9bfa",
   "metadata": {},
   "outputs": [
    {
     "name": "stdout",
     "output_type": "stream",
     "text": [
      "Not enough data sorry\n"
     ]
    }
   ],
   "source": [
    "# c_101\n",
    "\n",
    "obj1=get_customer_object(\"c_101\")\n",
    "#print(obj1.balance)"
   ]
  },
  {
   "cell_type": "code",
   "execution_count": 17,
   "id": "59459db4",
   "metadata": {},
   "outputs": [
    {
     "name": "stdout",
     "output_type": "stream",
     "text": [
      "Nie istnieje\n",
      "Not enough data sorry\n"
     ]
    }
   ],
   "source": [
    "# c_102\n",
    "\n",
    "obj1=get_customer_object(\"c_141\")"
   ]
  },
  {
   "cell_type": "markdown",
   "id": "243b177d",
   "metadata": {},
   "source": [
    "## Klasa Session"
   ]
  },
  {
   "cell_type": "markdown",
   "id": "98f26515",
   "metadata": {},
   "source": [
    "Zdefiniuj klasę session, która będzie mieć:\n",
    "- atrybut session_datetime - ustaw timestamp (podpowiedzi na końcu)\n",
    "- atrybut session_id - ustaw uuid (podpowiedzi na końcu)\n",
    "- atrybut access_allowed (wartość początkowa None)\n",
    "- klasę customer - użyj get_customer_object(customer_id)\n",
    "\n",
    "W init użyj customer_id"
   ]
  },
  {
   "cell_type": "code",
   "execution_count": 18,
   "id": "1397a913",
   "metadata": {},
   "outputs": [],
   "source": [
    "import datetime\n",
    "import uuid\n",
    "class Session:\n",
    "    def __init__(self, customer_id):\n",
    "        self.session_datetime=datetime.datetime.now()\n",
    "        self.session_id=uuid.uuid4()\n",
    "        self.access_allowed=None\n",
    "        self.customer=get_customer_object(customer_id)"
   ]
  },
  {
   "cell_type": "markdown",
   "id": "e3fd140b",
   "metadata": {},
   "source": [
    "Przetestuj klasę."
   ]
  },
  {
   "cell_type": "code",
   "execution_count": 19,
   "id": "4ec15036",
   "metadata": {},
   "outputs": [
    {
     "name": "stdout",
     "output_type": "stream",
     "text": [
      "Adam Kowalski\n",
      "8423bd1a-ccad-42a1-936c-1ab668426830\n"
     ]
    }
   ],
   "source": [
    "sesja=Session(\"c_100\")\n",
    "print(sesja.customer.customer_name)\n",
    "print(sesja.session_id)"
   ]
  },
  {
   "cell_type": "markdown",
   "id": "21c49f65",
   "metadata": {},
   "source": [
    "Przypomnij sobie ćwiczenia 4. Tym razem program będzie wykorzystywał obiekty. Logika programu:\n",
    "- podaj numer konta (np. c_100)\n",
    "- podaj pin (trzy próby)\n",
    "  - jeżeli udało się, to access_allowed = True\n",
    "- ustaw user_action = None\n",
    "- w pętli while user_selection różne od 9:\n",
    "  - wyświetl menu - show_menu - kod poniżej\n",
    "  - pobierz wybór (user_selection)\n",
    "  - w zależności od wyboru:\n",
    "    - 1, 2, 3 - pass\n",
    "    - 9 wyjście"
   ]
  },
  {
   "cell_type": "code",
   "execution_count": 20,
   "id": "f025afe7",
   "metadata": {},
   "outputs": [
    {
     "name": "stdout",
     "output_type": "stream",
     "text": [
      "[1] wyświetl dane konta\n",
      "[2] wyświetl stan konta\n",
      "[3] wypłać pieniądze\n",
      "[9] wyjdź\n"
     ]
    }
   ],
   "source": [
    "def show_menu():\n",
    "    print(\"[1] wyświetl dane konta\\n\" +\n",
    "          \"[2] wyświetl stan konta\\n\" +\n",
    "          \"[3] wypłać pieniądze\\n\" +\n",
    "          \"[9] wyjdź\")\n",
    "show_menu()"
   ]
  },
  {
   "cell_type": "markdown",
   "id": "1c0cfa1d",
   "metadata": {},
   "source": [
    "Dokończ resztę kodu."
   ]
  },
  {
   "cell_type": "code",
   "execution_count": 21,
   "id": "a5986284",
   "metadata": {},
   "outputs": [
    {
     "name": "stdout",
     "output_type": "stream",
     "text": [
      "Podaj numerc_100\n",
      "Podaj PIN1234\n",
      "[1] wyświetl dane konta\n",
      "[2] wyświetl stan konta\n",
      "[3] wypłać pieniądze\n",
      "[9] wyjdź\n",
      "9\n",
      "Not passed, 9\n",
      "9 False\n"
     ]
    }
   ],
   "source": [
    "import datetime\n",
    "import uuid\n",
    "\n",
    "nr_konta=input(\"Podaj numer\")\n",
    "sesja=Session(nr_konta)\n",
    "numer=int(input(\"Podaj PIN\"))\n",
    "\n",
    "for it in range(3):\n",
    "    if numer==sesja.customer.pin:\n",
    "        sesja.access_allowed=True\n",
    "        action=None\n",
    "        while sesja.access_allowed:\n",
    "            show_menu()\n",
    "            action=int(input())\n",
    "           #action=user\n",
    "            if action==1 | action==2 or action==3:\n",
    "                print(\"Passed\")\n",
    "            elif action==9:\n",
    "                print(\"Not passed,\", action)\n",
    "                sesja.access_allowed=False\n",
    "                print(action,sesja.access_allowed)\n",
    "        break"
   ]
  },
  {
   "cell_type": "markdown",
   "id": "e1104ac4",
   "metadata": {},
   "source": [
    "Do definicji klasy Customer dodaj funkcje:\n",
    "- show_customer_data()\n",
    "- show_account_balance)\n",
    "- witdraw_money(amount)\n",
    "- deposit_money(amount)"
   ]
  },
  {
   "cell_type": "code",
   "execution_count": 22,
   "id": "e9d3e683",
   "metadata": {},
   "outputs": [],
   "source": [
    "# tu cała definicja klasy Customer\n",
    "class Customer:\n",
    "    def __init__(self, customer_id=0, imię=\"Kowalski\", adres=\"Berlin\", środki=0, numer=1111):\n",
    "        self.customer_id=customer_id\n",
    "        self.customer_name=imię\n",
    "        self.address=adres\n",
    "        self.balance=środki\n",
    "        self.pin=numer\n",
    "    def show_customer_data(self):\n",
    "        print(self.customer_id,self.customer_name)\n",
    "    def show_account_balance(self):\n",
    "        print(self.balance)\n",
    "    def withdraw_money(self, amount):\n",
    "        self.balance=self.balance-amount\n",
    "    def deposit_money(self, amount):\n",
    "        self.balance=self.balance+amount"
   ]
  },
  {
   "cell_type": "markdown",
   "id": "da4c15e8",
   "metadata": {},
   "source": [
    "Zamień wybór 1, 2 i 3 z pass na wywołania odpowiednich metod klasy Customer."
   ]
  },
  {
   "cell_type": "code",
   "execution_count": null,
   "id": "f80478bd",
   "metadata": {},
   "outputs": [
    {
     "name": "stdout",
     "output_type": "stream",
     "text": [
      "Podaj numerc_100\n",
      "Podaj PIN1234\n",
      "[1] wyświetl dane konta\n",
      "[2] wyświetl stan konta\n",
      "[3] wypłać pieniądze\n",
      "[9] wyjdź\n"
     ]
    }
   ],
   "source": [
    "import datetime\n",
    "import uuid\n",
    "\n",
    "nr_konta=input(\"Podaj numer\")\n",
    "sesja=Session(nr_konta)\n",
    "numer=int(input(\"Podaj PIN\"))\n",
    "\n",
    "for it in range(3):\n",
    "    if numer==sesja.customer.pin:\n",
    "        sesja.access_allowed=True\n",
    "        action=None\n",
    "        while sesja.access_allowed:\n",
    "            show_menu()\n",
    "            action=int(input())\n",
    "           #action=user\n",
    "            if action==1:\n",
    "                sesja.customer.show_customer_data()\n",
    "            elif action==2:\n",
    "                sesja.customer.show_account_balance()\n",
    "            elif action==3:\n",
    "                amount=int(input())\n",
    "                sesja.customer.withdraw_money(amount)\n",
    "            elif action==9:\n",
    "                print(\"Not passed\", action)\n",
    "                sesja.access_allowed=False\n",
    "                print(action,sesja.access_allowed)\n",
    "            else:\n",
    "                print(\"Not an option\")\n",
    "        break"
   ]
  },
  {
   "cell_type": "markdown",
   "id": "2c0a6b68",
   "metadata": {},
   "source": [
    "## Kończenie programu"
   ]
  },
  {
   "cell_type": "markdown",
   "id": "0b625048",
   "metadata": {},
   "source": [
    "Zapoznaj się z poniższym kodem:"
   ]
  },
  {
   "cell_type": "code",
   "execution_count": 24,
   "id": "1ee989d7",
   "metadata": {},
   "outputs": [
    {
     "name": "stdout",
     "output_type": "stream",
     "text": [
      "{'c_100': {'customer_name': 'Adam Kowalski', 'address': 'Warsaw', 'balance': 100, 'pin': 1234}, 'c_101': {'customer_name': 'Adam'}}\n",
      "_______\n",
      "{'c_100': {'customer_name': 'Adam Kowalski', 'address': 'Warsaw', 'balance': 100, 'pin': 1234}, 'c_101': {'customer_name': 'Adam'}, 'c_105': {}}\n",
      "_______\n",
      "{'c_100': {'customer_name': 'Adam Kowalski', 'address': 'Warsaw', 'balance': 100, 'pin': 1234}, 'c_101': {'customer_name': 'Adam'}, 'c_105': {}}\n",
      "_______\n"
     ]
    }
   ],
   "source": [
    "# nie usuwać\n",
    "import json\n",
    "with open('customer_data.json', 'r') as file:\n",
    "    file_content = json.load(file)\n",
    "print(file_content)\n",
    "print(\"_______\")\n",
    "file_content['c_105'] = {}\n",
    "print(file_content)\n",
    "print(\"_______\")\n",
    "with open('data.json', 'w') as file:\n",
    "    json.dump(file_content, file)\n",
    "with open('data.json', 'r') as file:\n",
    "    file_content=json.load(file)\n",
    "print(file_content)\n",
    "print(\"_______\")"
   ]
  },
  {
   "cell_type": "markdown",
   "id": "39a2f53f",
   "metadata": {},
   "source": [
    "Napisz funkcję, która pobierze obiekt Customer i uaktualni dane w pliku:"
   ]
  },
  {
   "cell_type": "code",
   "execution_count": 25,
   "id": "ddfb1df5",
   "metadata": {},
   "outputs": [],
   "source": [
    "def function(customer):\n",
    "    file_content[customer.customer_id]= {'customer_name': customer.customer_name, 'address': customer.address, 'balance': customer.balance, 'pin': customer.pin}\n",
    "    with open('data.json', 'w') as file:\n",
    "        json.dump(file_content, file)"
   ]
  },
  {
   "cell_type": "markdown",
   "id": "5a27cc9f",
   "metadata": {},
   "source": [
    "Dodaj funkcję do programu:"
   ]
  },
  {
   "cell_type": "code",
   "execution_count": 26,
   "id": "bb7e50e3",
   "metadata": {},
   "outputs": [
    {
     "name": "stdout",
     "output_type": "stream",
     "text": [
      "{'c_100': {'customer_name': 'Adam Kowalski', 'address': 'Warsaw', 'balance': 100, 'pin': 1234}, 'c_101': {'customer_name': 'Adam'}, 'c_105': {}, 'c_200': {'customer_name': 'Kowalski', 'address': 'Berlin', 'balance': 0, 'pin': 1111}}\n"
     ]
    }
   ],
   "source": [
    "c=Customer(\"c_200\")\n",
    "function(c)\n",
    "file_content={}\n",
    "with open('data.json', 'r') as file:\n",
    "    file_content = json.load(file)\n",
    "print(file_content)"
   ]
  },
  {
   "cell_type": "markdown",
   "id": "156bcc06",
   "metadata": {},
   "source": [
    "Przetestuj cały program."
   ]
  },
  {
   "cell_type": "code",
   "execution_count": 31,
   "id": "ff17bba5",
   "metadata": {},
   "outputs": [
    {
     "name": "stdout",
     "output_type": "stream",
     "text": [
      "Patrz wyżej ^^^\n"
     ]
    }
   ],
   "source": [
    "print(\"Patrz wyżej ^^^\")"
   ]
  },
  {
   "cell_type": "code",
   "execution_count": null,
   "id": "0a5dc6a9",
   "metadata": {},
   "outputs": [],
   "source": []
  },
  {
   "cell_type": "code",
   "execution_count": null,
   "id": "6db14ace",
   "metadata": {},
   "outputs": [],
   "source": []
  },
  {
   "cell_type": "markdown",
   "id": "0049fb51",
   "metadata": {},
   "source": [
    "## Ściągawka"
   ]
  },
  {
   "cell_type": "markdown",
   "id": "3285d568",
   "metadata": {},
   "source": [
    "Obsługa słownika:"
   ]
  },
  {
   "cell_type": "code",
   "execution_count": null,
   "id": "25b6104b",
   "metadata": {},
   "outputs": [],
   "source": [
    "dct = {\"a\": 10, \"b\": 20}"
   ]
  },
  {
   "cell_type": "code",
   "execution_count": null,
   "id": "bbb923f7",
   "metadata": {},
   "outputs": [],
   "source": [
    "print(dct[\"a\"])"
   ]
  },
  {
   "cell_type": "code",
   "execution_count": null,
   "id": "04d241f1",
   "metadata": {},
   "outputs": [],
   "source": [
    "print(dct[\"c\"])"
   ]
  },
  {
   "cell_type": "markdown",
   "id": "897b61b5",
   "metadata": {},
   "source": [
    "Klasa a słownik"
   ]
  },
  {
   "cell_type": "code",
   "execution_count": null,
   "id": "936d5afc",
   "metadata": {},
   "outputs": [],
   "source": [
    "class Test:\n",
    "    def __init__(self, dct_key):\n",
    "        self.dct_key = dct_key"
   ]
  },
  {
   "cell_type": "code",
   "execution_count": null,
   "id": "55789788",
   "metadata": {},
   "outputs": [],
   "source": [
    "test = Test(dct[\"a\"])"
   ]
  },
  {
   "cell_type": "code",
   "execution_count": null,
   "id": "ad5a5194",
   "metadata": {},
   "outputs": [],
   "source": [
    "print(test.dct_key)"
   ]
  },
  {
   "cell_type": "markdown",
   "id": "15eabd82",
   "metadata": {},
   "source": [
    "Pobieranie timestamp"
   ]
  },
  {
   "cell_type": "code",
   "execution_count": null,
   "id": "af2bce16",
   "metadata": {},
   "outputs": [],
   "source": [
    "import datetime\n",
    "now = datetime.datetime.now()\n",
    "print(now)"
   ]
  },
  {
   "cell_type": "markdown",
   "id": "ff3081fc",
   "metadata": {},
   "source": [
    "Pobieranie unikalnego identyfikatora"
   ]
  },
  {
   "cell_type": "code",
   "execution_count": null,
   "id": "29f5c9d9",
   "metadata": {},
   "outputs": [],
   "source": [
    "import uuid\n",
    "u_id = uuid.uuid4()\n",
    "print(u_id)\n",
    "print(type(u_id))"
   ]
  },
  {
   "cell_type": "markdown",
   "id": "6fb46562",
   "metadata": {},
   "source": [
    "Słownik w pliku customer_data.json"
   ]
  },
  {
   "cell_type": "code",
   "execution_count": null,
   "id": "9efa47d2",
   "metadata": {},
   "outputs": [],
   "source": [
    "{\n",
    "    \"c_100\": {\n",
    "        \"customer_name\": \"Adam Kowalski\",\n",
    "        \"address\": \"Warsaw\",\n",
    "        \"balance\": 100,\n",
    "        \"pin\": 1234\n",
    "    },\n",
    "    \"c_101\": {\n",
    "        \"customer_name\": \"Adam\"\n",
    "    }\n",
    "}"
   ]
  }
 ],
 "metadata": {
  "kernelspec": {
   "display_name": "Python 3 (ipykernel)",
   "language": "python",
   "name": "python3"
  },
  "language_info": {
   "codemirror_mode": {
    "name": "ipython",
    "version": 3
   },
   "file_extension": ".py",
   "mimetype": "text/x-python",
   "name": "python",
   "nbconvert_exporter": "python",
   "pygments_lexer": "ipython3",
   "version": "3.9.13"
  }
 },
 "nbformat": 4,
 "nbformat_minor": 5
}
