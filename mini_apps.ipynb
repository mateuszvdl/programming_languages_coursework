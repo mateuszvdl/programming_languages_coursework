{
 "cells": [
  {
   "cell_type": "markdown",
   "id": "366f98dc",
   "metadata": {},
   "source": [
    "# Ćwiczenia"
   ]
  },
  {
   "cell_type": "markdown",
   "id": "d5cacf6c",
   "metadata": {},
   "source": [
    "## Bankomat"
   ]
  },
  {
   "cell_type": "markdown",
   "id": "aec8590c",
   "metadata": {},
   "source": [
    "Napisz funkcję get_pin(), która zwróci stałą wartość 1234"
   ]
  },
  {
   "cell_type": "code",
   "execution_count": 7,
   "id": "e1610f72",
   "metadata": {},
   "outputs": [
    {
     "data": {
      "text/plain": [
       "1234"
      ]
     },
     "execution_count": 7,
     "metadata": {},
     "output_type": "execute_result"
    }
   ],
   "source": [
    "def get_pin():\n",
    "    return 1234\n",
    "\n",
    "get_pin()"
   ]
  },
  {
   "cell_type": "markdown",
   "id": "c619cc0f",
   "metadata": {},
   "source": [
    "Napisz funkcję display_menu(), która wyświetli (w kolejnych liniach):\n",
    "- Hello user, please select the option:\n",
    "- Show balance - press 1\n",
    "- End session - press 0"
   ]
  },
  {
   "cell_type": "code",
   "execution_count": 6,
   "id": "d59f4dbd",
   "metadata": {},
   "outputs": [
    {
     "name": "stdout",
     "output_type": "stream",
     "text": [
      "Hello user, pleae select the option:\n",
      "Show balance - press 1\n",
      "End session - press 0\n"
     ]
    }
   ],
   "source": [
    "def display_menu():\n",
    "    print(\"Hello user, pleae select the option:\")\n",
    "    print(\"Show balance - press 1\")\n",
    "    print(\"End session - press 0\")\n",
    "\n",
    "display_menu()"
   ]
  },
  {
   "cell_type": "markdown",
   "id": "bebd5dad",
   "metadata": {},
   "source": [
    "Napisz funkcję display_balance(), która wyświetli 1000"
   ]
  },
  {
   "cell_type": "code",
   "execution_count": 8,
   "id": "b047e46e",
   "metadata": {},
   "outputs": [
    {
     "name": "stdout",
     "output_type": "stream",
     "text": [
      "1000\n"
     ]
    }
   ],
   "source": [
    "def display_balance():\n",
    "    print(\"1000\")\n",
    "    \n",
    "display_balance()"
   ]
  },
  {
   "cell_type": "markdown",
   "id": "ef46dfc3",
   "metadata": {},
   "source": [
    "Napisz funkcję get_number_from_user, która:\n",
    "- ustawi zmienną user_input na False\n",
    "- w bloku try pobierze od użytkownika tekst i skonwertuje go na liczbę\n",
    "- jeżeli wystąpi wyjątek, to użytkownik dostanie stosowną informację (np. nie wprowadzono liczby)\n",
    "- funkcja zwróci user_input - liczbę lub None"
   ]
  },
  {
   "cell_type": "code",
   "execution_count": 15,
   "id": "3be91355",
   "metadata": {},
   "outputs": [
    {
     "name": "stdout",
     "output_type": "stream",
     "text": [
      "gfgd\n",
      "Nie wprowadzono liczby\n",
      "None\n"
     ]
    }
   ],
   "source": [
    "def get_number_from_user():\n",
    "    user_input = False\n",
    "    try:\n",
    "        user_input = input()\n",
    "        user_input = int(user_input)\n",
    "    except:\n",
    "        print(\"Nie wprowadzono liczby\")\n",
    "        user_input = None\n",
    "        \n",
    "    return user_input\n",
    "\n",
    "value = get_number_from_user()\n",
    "print(value)"
   ]
  },
  {
   "cell_type": "markdown",
   "id": "6ba03186",
   "metadata": {},
   "source": [
    "## Bankomat - cd"
   ]
  },
  {
   "cell_type": "markdown",
   "id": "cf03a5e7",
   "metadata": {},
   "source": [
    "Napisz program, który:\n",
    "- ustawi zmienną successful_login = False\n",
    "- w pętli for trzy razy odpyta o podanie pin: pobierz pin za pomocą get_number_from_user\n",
    "- porównaj pin z wartością zwracaną przez funkcję get_pin()\n",
    "- jeżeli pin się zgadza, to ustaw successful_login na True i użyj break, aby wyjść z pętli"
   ]
  },
  {
   "cell_type": "code",
   "execution_count": 16,
   "id": "7b0b34b0",
   "metadata": {},
   "outputs": [
    {
     "name": "stdout",
     "output_type": "stream",
     "text": [
      "423\n",
      "24\n",
      "1234\n"
     ]
    }
   ],
   "source": [
    "successful_login = False\n",
    "for it in range (3):\n",
    "    value = get_number_from_user()\n",
    "    if value == get_pin():\n",
    "        successful_login = True\n",
    "        break"
   ]
  },
  {
   "cell_type": "markdown",
   "id": "703249e4",
   "metadata": {},
   "source": [
    "poniżej pętli for dodaj instrukcję sterującą if: jeżeli successful_login to true, to: \n",
    "- utwórz zmienną keep_session = True\n",
    "- dodaj pętlę while z warunkiem: dopóki keep_session = True\n",
    "- wewnątrz pętli while: \n",
    "- wywołaj display_menu()\n",
    "- pobierz liczbę od użytkownika - użyj get_number_from_user\n",
    "- dodaj warunek if: jeżeli 1, to wywołaj display balance; jeżeli 0, to keep_session = False"
   ]
  },
  {
   "cell_type": "code",
   "execution_count": 17,
   "id": "96840019",
   "metadata": {},
   "outputs": [
    {
     "name": "stdout",
     "output_type": "stream",
     "text": [
      "hgrg\n",
      "Nie wprowadzono liczby\n",
      "142\n",
      "1234\n",
      "Hello user, pleae select the option:\n",
      "Show balance - press 1\n",
      "End session - press 0\n",
      "1\n",
      "1000\n",
      "Hello user, pleae select the option:\n",
      "Show balance - press 1\n",
      "End session - press 0\n",
      "0\n"
     ]
    }
   ],
   "source": [
    "successful_login = False\n",
    "for it in range (3):\n",
    "    value = get_number_from_user()\n",
    "    if value == get_pin():\n",
    "        successful_login = True\n",
    "        break\n",
    "if successful_login:\n",
    "    keep_session = True\n",
    "    while keep_session:\n",
    "        display_menu()\n",
    "        value = get_number_from_user()\n",
    "        if value == 1:\n",
    "            display_balance()\n",
    "        elif value == 0:\n",
    "            keep_session = False"
   ]
  },
  {
   "cell_type": "markdown",
   "id": "1f1ccdc2",
   "metadata": {},
   "source": [
    "# Zgadywanie liczb"
   ]
  },
  {
   "cell_type": "markdown",
   "id": "a16bfd74",
   "metadata": {},
   "source": [
    "Zapoznaj się z poniższym kodem:"
   ]
  },
  {
   "cell_type": "code",
   "execution_count": 24,
   "id": "5d75da41",
   "metadata": {},
   "outputs": [],
   "source": [
    "import time\n",
    "start = time.time()"
   ]
  },
  {
   "cell_type": "code",
   "execution_count": 25,
   "id": "ca6f40b5",
   "metadata": {},
   "outputs": [
    {
     "name": "stdout",
     "output_type": "stream",
     "text": [
      "1.8468897342681885\n"
     ]
    }
   ],
   "source": [
    "end = time.time()\n",
    "print(end - start)"
   ]
  },
  {
   "cell_type": "markdown",
   "id": "0d34dc91",
   "metadata": {},
   "source": [
    "Czym jest wartość, która jest wyświetlana? Jak ją można wykorzystać?"
   ]
  },
  {
   "cell_type": "markdown",
   "id": "d03a432b",
   "metadata": {},
   "source": [
    "Przypomnij sobie losowanie liczby."
   ]
  },
  {
   "cell_type": "code",
   "execution_count": 26,
   "id": "6be377a2",
   "metadata": {},
   "outputs": [],
   "source": [
    "import random\n",
    "rand_num = random.randint(0,2)"
   ]
  },
  {
   "cell_type": "markdown",
   "id": "73cfe419",
   "metadata": {},
   "source": [
    "Napisz kod, w którym:\n",
    "- wylosujesz liczbę a z przedziału 1-15\n",
    "- wylosujesz liczbę c z przedziału 16-30\n",
    "- wyświetl \"a + ... = c\", gdzie a i c to wylosowane wartości, przykładowo \"10 + ... = 20\"\n",
    "- pobierz od użytkownika liczbę - możesz wykorzystać funkcję z poprzedniego zadania\n",
    "- sprawdź, czy to, co podał użytkownik, jest równe różnicy c i a"
   ]
  },
  {
   "cell_type": "code",
   "execution_count": 33,
   "id": "efc94d1b",
   "metadata": {},
   "outputs": [
    {
     "name": "stdout",
     "output_type": "stream",
     "text": [
      "13+...=28\n"
     ]
    }
   ],
   "source": [
    "a = random.randint(1,15)\n",
    "c = random.randint(16,30)\n",
    "print(str(a) + \"+...=\" + str(c))"
   ]
  },
  {
   "cell_type": "markdown",
   "id": "790ad40b",
   "metadata": {},
   "source": [
    "Zamień powyższy kod na funkcję ask_user_equation, gdzie parametrem wyjściowym będzie 1 w przypadku zgadnięcia poprawnej wartości, i 0 w przeciwnym przypadku"
   ]
  },
  {
   "cell_type": "code",
   "execution_count": 37,
   "id": "80b8970f",
   "metadata": {},
   "outputs": [
    {
     "name": "stdout",
     "output_type": "stream",
     "text": [
      "2+...=22\n",
      "20\n",
      "1\n"
     ]
    }
   ],
   "source": [
    "def ask_user_equation():\n",
    "    a = random.randint(1,15)\n",
    "    c = random.randint(16,30)\n",
    "    print(str(a) + \"+...=\" + str(c))\n",
    "    value = int(input())\n",
    "    Anwser = c - a\n",
    "    if Anwser == value:\n",
    "        return 1\n",
    "    else:\n",
    "        return 0\n",
    "    \n",
    "zmienna = ask_user_equation()\n",
    "print(zmienna)"
   ]
  },
  {
   "cell_type": "markdown",
   "id": "a558aa1c",
   "metadata": {},
   "source": [
    "Ostatnim krokiem jest połączenie wszystkich elementów:\n",
    "- zacznij od wyznaczenia start_time\n",
    "- zdefiniuj time_limit = 30\n",
    "- zdefiniuj zmienną do obliczania punktów score = 0\n",
    "- napisz pętlę while z warunkiem jeżeli current_time minus start_time mniejsze od time_limit\n",
    "- wewnątrz pętli dodaj do score wartość funkcji ask_user_equation\n",
    "- po wyjściu z pętli zaprezentuj wynik użytkownikowi"
   ]
  },
  {
   "cell_type": "code",
   "execution_count": 39,
   "id": "a14d0b66",
   "metadata": {},
   "outputs": [
    {
     "name": "stdout",
     "output_type": "stream",
     "text": [
      "9+...=24\n",
      "15\n",
      "1+...=27\n",
      "26\n",
      "3+...=21\n",
      "18\n",
      "9+...=28\n",
      "19\n",
      "8+...=24\n",
      "16\n",
      "3+...=27\n",
      "24\n",
      "12+...=27\n",
      "15\n",
      "4+...=26\n",
      "22\n",
      "my points 8\n"
     ]
    }
   ],
   "source": [
    "import time\n",
    "start = time.time()\n",
    "limit = 30\n",
    "points = 0\n",
    "end = time.time()\n",
    "while (end - start) < limit:\n",
    "    end = time.time()\n",
    "    points += ask_user_equation()\n",
    "print(\"my points\", points)"
   ]
  },
  {
   "cell_type": "code",
   "execution_count": null,
   "id": "e41998dd",
   "metadata": {},
   "outputs": [],
   "source": []
  }
 ],
 "metadata": {
  "kernelspec": {
   "display_name": "Python 3 (ipykernel)",
   "language": "python",
   "name": "python3"
  },
  "language_info": {
   "codemirror_mode": {
    "name": "ipython",
    "version": 3
   },
   "file_extension": ".py",
   "mimetype": "text/x-python",
   "name": "python",
   "nbconvert_exporter": "python",
   "pygments_lexer": "ipython3",
   "version": "3.9.12"
  }
 },
 "nbformat": 4,
 "nbformat_minor": 5
}
