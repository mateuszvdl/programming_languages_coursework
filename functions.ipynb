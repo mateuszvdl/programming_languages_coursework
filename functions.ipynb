{
 "cells": [
  {
   "cell_type": "markdown",
   "id": "bb11a4df",
   "metadata": {},
   "source": [
    "# Ćwiczenia 3: Funkcje"
   ]
  },
  {
   "cell_type": "markdown",
   "id": "3f143efb",
   "metadata": {},
   "source": [
    "## Funkcje podstawy"
   ]
  },
  {
   "cell_type": "markdown",
   "id": "b39a6719",
   "metadata": {},
   "source": [
    "Napisz funkcję o nazwie hello_world zwracającą tekst \"Hello World!\""
   ]
  },
  {
   "cell_type": "code",
   "execution_count": 47,
   "id": "2792cb97",
   "metadata": {},
   "outputs": [],
   "source": [
    "def hello_world():\n",
    "    print(\"Hello World!\")"
   ]
  },
  {
   "cell_type": "markdown",
   "id": "3f88aa46",
   "metadata": {},
   "source": [
    "Przetestuj funkcję"
   ]
  },
  {
   "cell_type": "code",
   "execution_count": 48,
   "id": "7075cdc1",
   "metadata": {},
   "outputs": [
    {
     "name": "stdout",
     "output_type": "stream",
     "text": [
      "Hello World!\n"
     ]
    }
   ],
   "source": [
    "hello_world()"
   ]
  },
  {
   "cell_type": "markdown",
   "id": "e280f8cb",
   "metadata": {},
   "source": [
    "Sprawdź \"typ\" funkcji"
   ]
  },
  {
   "cell_type": "code",
   "execution_count": 49,
   "id": "222bddc8",
   "metadata": {},
   "outputs": [
    {
     "name": "stdout",
     "output_type": "stream",
     "text": [
      "<class 'function'>\n"
     ]
    }
   ],
   "source": [
    "print(type(hello_world))"
   ]
  },
  {
   "cell_type": "markdown",
   "id": "d5cffed7",
   "metadata": {},
   "source": [
    "Napisz funkcję hello_world_wrapper wywołującą funkcję hello_world"
   ]
  },
  {
   "cell_type": "code",
   "execution_count": 50,
   "id": "e66857d1",
   "metadata": {},
   "outputs": [],
   "source": [
    "def hello_world_wrapper(wrapperhello_world):\n",
    "    def wrapper():\n",
    "        print(\"Funkcja wrapujaca poprzednia funkcje\")\n",
    "        wrapperhello_world()\n",
    "        print(\"end\")\n",
    "    return wrapper\n",
    "\n",
    "def mojafunkcjaaa():\n",
    "    print(\"ok\")"
   ]
  },
  {
   "cell_type": "markdown",
   "id": "a66937d0",
   "metadata": {},
   "source": [
    "Wywołaj napisaną funkcję"
   ]
  },
  {
   "cell_type": "code",
   "execution_count": 51,
   "id": "380b0eee",
   "metadata": {},
   "outputs": [
    {
     "name": "stdout",
     "output_type": "stream",
     "text": [
      "Funkcja wrapujaca poprzednia funkcje\n",
      "Hello World!\n",
      "end\n"
     ]
    }
   ],
   "source": [
    "mojafunkcjaaa = hello_world_wrapper(hello_world)\n",
    "mojafunkcjaaa()"
   ]
  },
  {
   "cell_type": "markdown",
   "id": "11b86755",
   "metadata": {},
   "source": [
    "## Funkcje z parametrami wejściowymi"
   ]
  },
  {
   "cell_type": "markdown",
   "id": "18575fdf",
   "metadata": {},
   "source": [
    "Napisz funkcję b. Jako parametr wejściowy przyjmij jego imię, a zmienną nazwij a. Jako efekt działania funkcji zwróć tekst (zwróć, nie wyświetlaj) \"Hello \" + a."
   ]
  },
  {
   "cell_type": "code",
   "execution_count": 52,
   "id": "2c1fa781",
   "metadata": {},
   "outputs": [
    {
     "name": "stdout",
     "output_type": "stream",
     "text": [
      "HelloMateusz\n"
     ]
    }
   ],
   "source": [
    "def b(a):\n",
    "    print(\"Hello\"+a)\n",
    "b(\"Mateusz\")"
   ]
  },
  {
   "cell_type": "markdown",
   "id": "52af5cf8",
   "metadata": {},
   "source": [
    "Czy taka funkcja jest czytelna? Jak powinno się nazywać zmienne i nazwy funkcji? \n",
    "Zmień nazwę funkcji na greet_user, a zmienną a na user."
   ]
  },
  {
   "cell_type": "code",
   "execution_count": 53,
   "id": "d1c0c835",
   "metadata": {},
   "outputs": [
    {
     "name": "stdout",
     "output_type": "stream",
     "text": [
      "HelloMateusz\n"
     ]
    }
   ],
   "source": [
    "def greet_user(user):\n",
    "    print(\"Hello\"+user)\n",
    "greet_user(\"Mateusz\")"
   ]
  },
  {
   "cell_type": "markdown",
   "id": "b7cf2a3c",
   "metadata": {},
   "source": [
    "Rozszerz funkcję o parametr wejściowy repetitions. Wewnątrz funkcji umieść pętlę for wywołującej się tyle razy, ile wynosi wartość repetitions: for i in range(repetitions), z wyświetleniem pozdrowienia użytkownika."
   ]
  },
  {
   "cell_type": "code",
   "execution_count": 54,
   "id": "267cbaec",
   "metadata": {},
   "outputs": [
    {
     "name": "stdout",
     "output_type": "stream",
     "text": [
      "HelloMateusz\n",
      "HelloMateusz\n",
      "HelloMateusz\n",
      "HelloMateusz\n",
      "HelloMateusz\n",
      "HelloMateusz\n"
     ]
    }
   ],
   "source": [
    "def greet_user(user, repetitions):\n",
    "    for it in range(repetitions):\n",
    "        print(\"Hello\"+user)\n",
    "        \n",
    "greet_user(\"Mateusz\", 6)"
   ]
  },
  {
   "cell_type": "markdown",
   "id": "03e23c78",
   "metadata": {},
   "source": [
    "Przetestuj kod"
   ]
  },
  {
   "cell_type": "code",
   "execution_count": 55,
   "id": "a4192a90",
   "metadata": {},
   "outputs": [
    {
     "name": "stdout",
     "output_type": "stream",
     "text": [
      "HelloMateusz\n",
      "HelloMateusz\n",
      "HelloMateusz\n",
      "HelloMateusz\n",
      "HelloMateusz\n",
      "HelloMateusz\n"
     ]
    }
   ],
   "source": [
    "greet_user(\"Mateusz\", 6)"
   ]
  },
  {
   "cell_type": "markdown",
   "id": "6a23bdc3",
   "metadata": {},
   "source": [
    "Dodaj wartość domyślną parametru repetitions: 1 "
   ]
  },
  {
   "cell_type": "code",
   "execution_count": 56,
   "id": "7bbe0d18",
   "metadata": {},
   "outputs": [],
   "source": [
    "def greet_user(user, repetitions = 1):\n",
    "    for it in range(repetitions):\n",
    "        print(\"Hello\"+user)"
   ]
  },
  {
   "cell_type": "markdown",
   "id": "5f9a5afa",
   "metadata": {},
   "source": [
    "Przetestuj kod podając obydwa parametry."
   ]
  },
  {
   "cell_type": "code",
   "execution_count": 57,
   "id": "67296efa",
   "metadata": {},
   "outputs": [
    {
     "name": "stdout",
     "output_type": "stream",
     "text": [
      "HelloMateusz\n",
      "HelloMateusz\n",
      "HelloMateusz\n",
      "HelloMateusz\n",
      "HelloMateusz\n",
      "HelloMateusz\n",
      "HelloMateusz\n",
      "HelloMateusz\n",
      "HelloMateusz\n"
     ]
    }
   ],
   "source": [
    "greet_user(\"Mateusz\", 9)"
   ]
  },
  {
   "cell_type": "markdown",
   "id": "c4e7a299",
   "metadata": {},
   "source": [
    "Przetestuj kod podając jeden parametr."
   ]
  },
  {
   "cell_type": "code",
   "execution_count": 58,
   "id": "2ecbbf47",
   "metadata": {},
   "outputs": [
    {
     "name": "stdout",
     "output_type": "stream",
     "text": [
      "HelloMateusz\n"
     ]
    }
   ],
   "source": [
    "greet_user(\"Mateusz\",)"
   ]
  },
  {
   "cell_type": "markdown",
   "id": "26932362",
   "metadata": {},
   "source": [
    "Przetestuj kod jawnie podając nazwy parametrów podczas wywołania"
   ]
  },
  {
   "cell_type": "code",
   "execution_count": 59,
   "id": "0ad92b8a",
   "metadata": {},
   "outputs": [
    {
     "name": "stdout",
     "output_type": "stream",
     "text": [
      "HelloMateusz\n",
      "HelloMateusz\n",
      "HelloMateusz\n",
      "HelloMateusz\n"
     ]
    }
   ],
   "source": [
    "greet_user(repetitions = 4, user=\"Mateusz\")"
   ]
  },
  {
   "cell_type": "markdown",
   "id": "605b90d3",
   "metadata": {},
   "source": [
    "Przetestuj kod podając wartość pierwszego parametru oraz nazwę i wartość drugiego parametru."
   ]
  },
  {
   "cell_type": "code",
   "execution_count": 60,
   "id": "43abe3ca",
   "metadata": {},
   "outputs": [
    {
     "name": "stdout",
     "output_type": "stream",
     "text": [
      "HelloMateusz\n",
      "HelloMateusz\n",
      "HelloMateusz\n",
      "HelloMateusz\n"
     ]
    }
   ],
   "source": [
    "greet_user(\"Mateusz\", repetitions = 4)"
   ]
  },
  {
   "cell_type": "markdown",
   "id": "fcb35fc9",
   "metadata": {},
   "source": [
    "Przetestuj kod podając nazwę i wartość pierwszego parametru oraz wartość drugiego parametru."
   ]
  },
  {
   "cell_type": "code",
   "execution_count": 63,
   "id": "d9d74194",
   "metadata": {},
   "outputs": [
    {
     "ename": "SyntaxError",
     "evalue": "positional argument follows keyword argument (1489672735.py, line 1)",
     "output_type": "error",
     "traceback": [
      "\u001b[0;36m  Cell \u001b[0;32mIn [63], line 1\u001b[0;36m\u001b[0m\n\u001b[0;31m    greet_user(user=\"Mateusz\", 4)\u001b[0m\n\u001b[0m                                ^\u001b[0m\n\u001b[0;31mSyntaxError\u001b[0m\u001b[0;31m:\u001b[0m positional argument follows keyword argument\n"
     ]
    }
   ],
   "source": [
    "greet_user(user=\"Mateusz\", 4)"
   ]
  },
  {
   "cell_type": "markdown",
   "id": "1fb00ebe",
   "metadata": {},
   "source": [
    "Zmień funkcję na poniższą:"
   ]
  },
  {
   "cell_type": "code",
   "execution_count": null,
   "id": "e40b3870",
   "metadata": {},
   "outputs": [],
   "source": [
    "def greet_user(user, mood=\"normal\", language=\"en\", repetitions=1):\n",
    "    print(\"Mood\", mood)\n",
    "    for it in range(repetitions):\n",
    "        print(\"Hello\" + user)"
   ]
  },
  {
   "cell_type": "markdown",
   "id": "4d22f527",
   "metadata": {},
   "source": [
    "Wywołaj ją: greet_user(\"Piotr\", 2)"
   ]
  },
  {
   "cell_type": "code",
   "execution_count": null,
   "id": "dcd69d84",
   "metadata": {},
   "outputs": [
    {
     "name": "stdout",
     "output_type": "stream",
     "text": [
      "HelloPiotr\n",
      "HelloPiotr\n"
     ]
    }
   ],
   "source": [
    "greet_user(\"Piotr\", 2)"
   ]
  },
  {
   "cell_type": "markdown",
   "id": "319090da",
   "metadata": {},
   "source": [
    "Wywołaj ją z wykorzystaniem słowa kluczowego repetitions o wartości 2."
   ]
  },
  {
   "cell_type": "code",
   "execution_count": null,
   "id": "d2eef6c5",
   "metadata": {},
   "outputs": [
    {
     "name": "stdout",
     "output_type": "stream",
     "text": [
      "HelloPiotr\n",
      "HelloPiotr\n"
     ]
    }
   ],
   "source": [
    "greet_user(\"Piotr\", repetitions = 2)"
   ]
  },
  {
   "cell_type": "markdown",
   "id": "9a3516b6",
   "metadata": {},
   "source": [
    "## Funkcje - cd."
   ]
  },
  {
   "cell_type": "markdown",
   "id": "354fdf38",
   "metadata": {},
   "source": [
    "Napisz nową funkcję hello_users. Jako parametr wejściowy przyjmij listę names. Wewnątrz pozdrów każdego z użytkowników. Użyj poniższego kodu:"
   ]
  },
  {
   "cell_type": "code",
   "execution_count": 79,
   "id": "04479dfe",
   "metadata": {},
   "outputs": [
    {
     "name": "stdout",
     "output_type": "stream",
     "text": [
      "Hello Anna\n",
      "Hello Marta\n",
      "Hello Adam\n",
      "Hello Marcin\n"
     ]
    }
   ],
   "source": [
    "names = [\"Anna\", \"Marta\", \"Adam\", \"Marcin\"]\n",
    "i=0\n",
    "for user in names:\n",
    "        print(\"Hello \" + names[i])\n",
    "        i=i+1\n",
    "\n",
    "\n"
   ]
  },
  {
   "cell_type": "markdown",
   "id": "b8e59f93",
   "metadata": {},
   "source": [
    "Napisz funkcję poniżej. Zwróć uwagę na użyte nazwy zmiennych - sugerują, do czego kod ma służyć."
   ]
  },
  {
   "cell_type": "code",
   "execution_count": 80,
   "id": "b1ae6a52",
   "metadata": {},
   "outputs": [],
   "source": [
    "def hello_users(names):\n",
    "    for it in names:\n",
    "        print(it)"
   ]
  },
  {
   "cell_type": "markdown",
   "id": "5d467db9",
   "metadata": {},
   "source": [
    "Wywołaj ją podając [\"Anna\", \"Marta\", \"Adam\", \"Marcin\"]:"
   ]
  },
  {
   "cell_type": "code",
   "execution_count": 81,
   "id": "8d99f528",
   "metadata": {},
   "outputs": [
    {
     "name": "stdout",
     "output_type": "stream",
     "text": [
      "Anna\n",
      "Marta\n",
      "Adam\n",
      "Marcin\n"
     ]
    }
   ],
   "source": [
    "names:[\"Anna\", \"Marta\", \"Adam\", \"Marcin\"]\n",
    "hello_users(names)"
   ]
  },
  {
   "cell_type": "markdown",
   "id": "4c2034c0",
   "metadata": {},
   "source": [
    "Wywołaj ją podając \"Anna\""
   ]
  },
  {
   "cell_type": "code",
   "execution_count": 82,
   "id": "a41b6765",
   "metadata": {},
   "outputs": [
    {
     "name": "stdout",
     "output_type": "stream",
     "text": [
      "A\n",
      "n\n",
      "n\n",
      "a\n"
     ]
    }
   ],
   "source": [
    "hello_users(\"Anna\")"
   ]
  },
  {
   "cell_type": "markdown",
   "id": "e9cc1926",
   "metadata": {},
   "source": [
    "Wywołaj ją podając 5"
   ]
  },
  {
   "cell_type": "code",
   "execution_count": 122,
   "id": "681c379e",
   "metadata": {},
   "outputs": [
    {
     "ename": "TypeError",
     "evalue": "'int' object is not iterable",
     "output_type": "error",
     "traceback": [
      "\u001b[0;31m---------------------------------------------------------------------------\u001b[0m",
      "\u001b[0;31mTypeError\u001b[0m                                 Traceback (most recent call last)",
      "Cell \u001b[0;32mIn [122], line 1\u001b[0m\n\u001b[0;32m----> 1\u001b[0m hello_users(\u001b[39m5\u001b[39;49m)\n",
      "Cell \u001b[0;32mIn [80], line 2\u001b[0m, in \u001b[0;36mhello_users\u001b[0;34m(names)\u001b[0m\n\u001b[1;32m      1\u001b[0m \u001b[39mdef\u001b[39;00m \u001b[39mhello_users\u001b[39m(names):\n\u001b[0;32m----> 2\u001b[0m     \u001b[39mfor\u001b[39;00m it \u001b[39min\u001b[39;00m names:\n\u001b[1;32m      3\u001b[0m         \u001b[39mprint\u001b[39m(it)\n",
      "\u001b[0;31mTypeError\u001b[0m: 'int' object is not iterable"
     ]
    }
   ],
   "source": [
    "hello_users(5)"
   ]
  },
  {
   "cell_type": "markdown",
   "id": "e6bdca9b",
   "metadata": {},
   "source": [
    "Wywołaj ją podając słownik {\"name_1\": \"Anna\", \"name_2\": \"Marta\"}"
   ]
  },
  {
   "cell_type": "code",
   "execution_count": 130,
   "id": "6e167e51",
   "metadata": {},
   "outputs": [
    {
     "name": "stdout",
     "output_type": "stream",
     "text": [
      "name_1\n",
      "name_2\n"
     ]
    }
   ],
   "source": [
    "słownik = {\"name_1\": \"Anna\", \"name_2\": \"Marta\"}\n",
    "hello_users(słownik)"
   ]
  },
  {
   "cell_type": "markdown",
   "id": "6d289aa6",
   "metadata": {},
   "source": [
    "Zmodyfikuj funkcję, aby wyświetlała imiona (podpowiedź: names[users])."
   ]
  },
  {
   "cell_type": "code",
   "execution_count": 131,
   "id": "ed258e41",
   "metadata": {},
   "outputs": [],
   "source": [
    "def hello_users2(slownik):\n",
    "    for it in slownik:\n",
    "        print(slownik[it])"
   ]
  },
  {
   "cell_type": "markdown",
   "id": "227cbd2f",
   "metadata": {},
   "source": [
    "Sprawdź działanie zmienionej funkcji dla listy."
   ]
  },
  {
   "cell_type": "code",
   "execution_count": 132,
   "id": "8377a449",
   "metadata": {},
   "outputs": [
    {
     "name": "stdout",
     "output_type": "stream",
     "text": [
      "Anna\n",
      "Marta\n"
     ]
    }
   ],
   "source": [
    "hello_users2(slownik)"
   ]
  },
  {
   "cell_type": "markdown",
   "id": "25d2da5d",
   "metadata": {},
   "source": [
    "## Funkcje z parametrami wyjściowymi"
   ]
  },
  {
   "cell_type": "markdown",
   "id": "84d291fd",
   "metadata": {},
   "source": [
    "Zapoznaj się z poniższym kodem"
   ]
  },
  {
   "cell_type": "code",
   "execution_count": 95,
   "id": "40f45466",
   "metadata": {},
   "outputs": [],
   "source": [
    "import datetime\n",
    "now = datetime.datetime.now()"
   ]
  },
  {
   "cell_type": "code",
   "execution_count": 96,
   "id": "6427b780",
   "metadata": {},
   "outputs": [
    {
     "name": "stdout",
     "output_type": "stream",
     "text": [
      "2022-10-29\n"
     ]
    }
   ],
   "source": [
    "print(now.strftime(\"%Y-%m-%d\"))"
   ]
  },
  {
   "cell_type": "code",
   "execution_count": 97,
   "id": "ec725bf6",
   "metadata": {},
   "outputs": [
    {
     "name": "stdout",
     "output_type": "stream",
     "text": [
      "Saturday\n"
     ]
    }
   ],
   "source": [
    "print(now.strftime(\"%A\"))"
   ]
  },
  {
   "cell_type": "markdown",
   "id": "33e6389c",
   "metadata": {},
   "source": [
    "Napisz funkcję, która wyświetli datę i dzień tygodnia."
   ]
  },
  {
   "cell_type": "code",
   "execution_count": 101,
   "id": "284fa5df",
   "metadata": {},
   "outputs": [
    {
     "name": "stdout",
     "output_type": "stream",
     "text": [
      "2022-10-29Saturday\n"
     ]
    }
   ],
   "source": [
    "print(now.strftime(\"%Y-%m-%d\" + \"%A\"))"
   ]
  },
  {
   "cell_type": "markdown",
   "id": "6f80a544",
   "metadata": {},
   "source": [
    "Napisz funkcję, która zwróci datę i dzień tygodnia. W tym celu przypisz je do zmiennych date i day i zwróć za pomocą return"
   ]
  },
  {
   "cell_type": "code",
   "execution_count": 105,
   "id": "5ecc5795",
   "metadata": {},
   "outputs": [],
   "source": [
    "def get():\n",
    "    date = now.strftime(\"%Y-%m-%d\")\n",
    "    day = now.strftime(\"%A\")\n",
    "    return [day, date]"
   ]
  },
  {
   "cell_type": "markdown",
   "id": "72d829d8",
   "metadata": {},
   "source": [
    "Wywołaj funkcję"
   ]
  },
  {
   "cell_type": "code",
   "execution_count": 106,
   "id": "72bc38f7",
   "metadata": {},
   "outputs": [
    {
     "name": "stdout",
     "output_type": "stream",
     "text": [
      "['Saturday', '2022-10-29']\n"
     ]
    }
   ],
   "source": [
    "l = get()\n",
    "print(l)"
   ]
  },
  {
   "cell_type": "markdown",
   "id": "b88a729c",
   "metadata": {},
   "source": [
    "Napisz funkcję, która przyjmie parametry wejściowe a, b i c, i zwróci ich listę z ich wartościami."
   ]
  },
  {
   "cell_type": "code",
   "execution_count": 107,
   "id": "79afabe6",
   "metadata": {},
   "outputs": [
    {
     "name": "stdout",
     "output_type": "stream",
     "text": [
      "[1, 2, 3]\n"
     ]
    }
   ],
   "source": [
    "def fun6(a, b, c):\n",
    "    return [a, b, c];\n",
    "print(fun6(1,2,3))"
   ]
  },
  {
   "cell_type": "code",
   "execution_count": null,
   "id": "e6c49f2e",
   "metadata": {},
   "outputs": [],
   "source": []
  },
  {
   "cell_type": "code",
   "execution_count": null,
   "id": "5bbbb7c2",
   "metadata": {},
   "outputs": [],
   "source": []
  },
  {
   "cell_type": "code",
   "execution_count": null,
   "id": "e4187440",
   "metadata": {},
   "outputs": [],
   "source": []
  }
 ],
 "metadata": {
  "kernelspec": {
   "display_name": "Python 3.10.6 64-bit",
   "language": "python",
   "name": "python3"
  },
  "language_info": {
   "codemirror_mode": {
    "name": "ipython",
    "version": 3
   },
   "file_extension": ".py",
   "mimetype": "text/x-python",
   "name": "python",
   "nbconvert_exporter": "python",
   "pygments_lexer": "ipython3",
   "version": "3.10.6"
  },
  "vscode": {
   "interpreter": {
    "hash": "aee8b7b246df8f9039afb4144a1f6fd8d2ca17a180786b69acc140d282b71a49"
   }
  }
 },
 "nbformat": 4,
 "nbformat_minor": 5
}
