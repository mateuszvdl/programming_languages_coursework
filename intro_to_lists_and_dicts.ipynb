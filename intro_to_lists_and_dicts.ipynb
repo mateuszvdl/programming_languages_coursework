{
  "metadata": {
    "language_info": {
      "codemirror_mode": {
        "name": "python",
        "version": 3
      },
      "file_extension": ".py",
      "mimetype": "text/x-python",
      "name": "python",
      "nbconvert_exporter": "python",
      "pygments_lexer": "ipython3",
      "version": "3.8"
    },
    "kernelspec": {
      "name": "python",
      "display_name": "Python (Pyodide)",
      "language": "python"
    }
  },
  "nbformat_minor": 4,
  "nbformat": 4,
  "cells": [
    {
      "cell_type": "code",
      "source": "quantity_a =5\nquantity_b =7",
      "metadata": {
        "trusted": true
      },
      "execution_count": 200,
      "outputs": []
    },
    {
      "cell_type": "code",
      "source": "if quantity_a>quantity_b:\n    print(\"a is bigger or equal\")\nelif quantity_a==quantity_b:\n    print(\"values are equal\")\nelse:\n    print(\"b is bigger\")",
      "metadata": {
        "trusted": true
      },
      "execution_count": 201,
      "outputs": [
        {
          "name": "stdout",
          "text": "b is bigger\n",
          "output_type": "stream"
        }
      ]
    },
    {
      "cell_type": "code",
      "source": "def compare(quantity_a,quantity_b):\n    if quantity_a>=quantity_b:\n        print(\"a is bigger or equal\")\n    elif quantity_a==quantity_b:\n        print(\"values are equal\")\n    else:\n        print(\"b is bigger\")",
      "metadata": {
        "trusted": true
      },
      "execution_count": 202,
      "outputs": []
    },
    {
      "cell_type": "code",
      "source": "compare(3,2)",
      "metadata": {
        "trusted": true
      },
      "execution_count": 203,
      "outputs": [
        {
          "name": "stdout",
          "text": "a is bigger or equal\n",
          "output_type": "stream"
        }
      ]
    },
    {
      "cell_type": "code",
      "source": "compare(2,3)",
      "metadata": {
        "trusted": true
      },
      "execution_count": 204,
      "outputs": [
        {
          "name": "stdout",
          "text": "b is bigger\n",
          "output_type": "stream"
        }
      ]
    },
    {
      "cell_type": "code",
      "source": "compare(2,2)",
      "metadata": {
        "trusted": true
      },
      "execution_count": 205,
      "outputs": [
        {
          "name": "stdout",
          "text": "a is bigger or equal\n",
          "output_type": "stream"
        }
      ]
    },
    {
      "cell_type": "code",
      "source": "beverages =[\"tea\", \"coffee\", \"juice\"]",
      "metadata": {
        "trusted": true
      },
      "execution_count": 206,
      "outputs": []
    },
    {
      "cell_type": "code",
      "source": "print(type(beverages))",
      "metadata": {
        "trusted": true
      },
      "execution_count": 207,
      "outputs": [
        {
          "name": "stdout",
          "text": "<class 'list'>\n",
          "output_type": "stream"
        }
      ]
    },
    {
      "cell_type": "code",
      "source": "len(beverages)",
      "metadata": {
        "trusted": true
      },
      "execution_count": 208,
      "outputs": [
        {
          "execution_count": 208,
          "output_type": "execute_result",
          "data": {
            "text/plain": "3"
          },
          "metadata": {}
        }
      ]
    },
    {
      "cell_type": "code",
      "source": "beverages[0]",
      "metadata": {
        "trusted": true
      },
      "execution_count": 209,
      "outputs": [
        {
          "execution_count": 209,
          "output_type": "execute_result",
          "data": {
            "text/plain": "'tea'"
          },
          "metadata": {}
        }
      ]
    },
    {
      "cell_type": "code",
      "source": "beverages[len(beverages)-1]",
      "metadata": {
        "trusted": true
      },
      "execution_count": 210,
      "outputs": [
        {
          "execution_count": 210,
          "output_type": "execute_result",
          "data": {
            "text/plain": "'juice'"
          },
          "metadata": {}
        }
      ]
    },
    {
      "cell_type": "code",
      "source": "beverages[2]",
      "metadata": {
        "trusted": true
      },
      "execution_count": 211,
      "outputs": [
        {
          "execution_count": 211,
          "output_type": "execute_result",
          "data": {
            "text/plain": "'juice'"
          },
          "metadata": {}
        }
      ]
    },
    {
      "cell_type": "code",
      "source": "beverages[-1]",
      "metadata": {
        "trusted": true
      },
      "execution_count": 212,
      "outputs": [
        {
          "execution_count": 212,
          "output_type": "execute_result",
          "data": {
            "text/plain": "'juice'"
          },
          "metadata": {}
        }
      ]
    },
    {
      "cell_type": "code",
      "source": "beverages.append",
      "metadata": {
        "trusted": true
      },
      "execution_count": 213,
      "outputs": [
        {
          "execution_count": 213,
          "output_type": "execute_result",
          "data": {
            "text/plain": "<function list.append(object, /)>"
          },
          "metadata": {}
        }
      ]
    },
    {
      "cell_type": "code",
      "source": "beverages.insert",
      "metadata": {
        "trusted": true
      },
      "execution_count": 214,
      "outputs": [
        {
          "execution_count": 214,
          "output_type": "execute_result",
          "data": {
            "text/plain": "<function list.insert(index, object, /)>"
          },
          "metadata": {}
        }
      ]
    },
    {
      "cell_type": "code",
      "source": "beverages.remove",
      "metadata": {
        "trusted": true
      },
      "execution_count": 215,
      "outputs": [
        {
          "execution_count": 215,
          "output_type": "execute_result",
          "data": {
            "text/plain": "<function list.remove(value, /)>"
          },
          "metadata": {}
        }
      ]
    },
    {
      "cell_type": "code",
      "source": "beverages.pop",
      "metadata": {
        "trusted": true
      },
      "execution_count": 216,
      "outputs": [
        {
          "execution_count": 216,
          "output_type": "execute_result",
          "data": {
            "text/plain": "<function list.pop(index=-1, /)>"
          },
          "metadata": {}
        }
      ]
    },
    {
      "cell_type": "code",
      "source": "beverages+ [0,1,3]",
      "metadata": {
        "trusted": true
      },
      "execution_count": 217,
      "outputs": [
        {
          "execution_count": 217,
          "output_type": "execute_result",
          "data": {
            "text/plain": "['tea', 'coffee', 'juice', 0, 1, 3]"
          },
          "metadata": {}
        }
      ]
    },
    {
      "cell_type": "code",
      "source": "beverages[2]",
      "metadata": {
        "trusted": true
      },
      "execution_count": 218,
      "outputs": [
        {
          "execution_count": 218,
          "output_type": "execute_result",
          "data": {
            "text/plain": "'juice'"
          },
          "metadata": {}
        }
      ]
    },
    {
      "cell_type": "code",
      "source": "bev_dict = {\"orange juice\": 10, \"apple juice\": \"5\"}",
      "metadata": {
        "trusted": true
      },
      "execution_count": 219,
      "outputs": []
    },
    {
      "cell_type": "code",
      "source": "bev_dict[\"orange juice\"]",
      "metadata": {
        "trusted": true
      },
      "execution_count": 220,
      "outputs": [
        {
          "execution_count": 220,
          "output_type": "execute_result",
          "data": {
            "text/plain": "10"
          },
          "metadata": {}
        }
      ]
    },
    {
      "cell_type": "code",
      "source": "bev_dict[\"banana_juice\"]=\"None\"",
      "metadata": {
        "trusted": true
      },
      "execution_count": 221,
      "outputs": []
    },
    {
      "cell_type": "code",
      "source": "print(bev_dict)",
      "metadata": {
        "trusted": true
      },
      "execution_count": 222,
      "outputs": [
        {
          "name": "stdout",
          "text": "{'orange juice': 10, 'apple juice': '5', 'banana_juice': 'None'}\n",
          "output_type": "stream"
        }
      ]
    },
    {
      "cell_type": "code",
      "source": "bev_dict.pop(\"banana_juice\")",
      "metadata": {
        "trusted": true
      },
      "execution_count": 223,
      "outputs": [
        {
          "execution_count": 223,
          "output_type": "execute_result",
          "data": {
            "text/plain": "'None'"
          },
          "metadata": {}
        }
      ]
    },
    {
      "cell_type": "code",
      "source": "bev_dict",
      "metadata": {
        "trusted": true
      },
      "execution_count": 224,
      "outputs": [
        {
          "execution_count": 224,
          "output_type": "execute_result",
          "data": {
            "text/plain": "{'orange juice': 10, 'apple juice': '5'}"
          },
          "metadata": {}
        }
      ]
    },
    {
      "cell_type": "code",
      "source": "bev_dict.get(\"banana_juice\")",
      "metadata": {
        "trusted": true
      },
      "execution_count": 225,
      "outputs": []
    },
    {
      "cell_type": "code",
      "source": "bev_dict.pop(\"banana_juice\")",
      "metadata": {
        "trusted": true
      },
      "execution_count": 226,
      "outputs": [
        {
          "ename": "<class 'KeyError'>",
          "evalue": "'banana_juice'",
          "traceback": [
            "\u001b[0;31m---------------------------------------------------------------------------\u001b[0m",
            "\u001b[0;31mKeyError\u001b[0m                                  Traceback (most recent call last)",
            "Cell \u001b[0;32mIn [226], line 1\u001b[0m\n\u001b[0;32m----> 1\u001b[0m bev_dict\u001b[38;5;241m.\u001b[39mpop(\u001b[38;5;124m\"\u001b[39m\u001b[38;5;124mbanana_juice\u001b[39m\u001b[38;5;124m\"\u001b[39m)\n",
            "\u001b[0;31mKeyError\u001b[0m: 'banana_juice'"
          ],
          "output_type": "error"
        }
      ]
    },
    {
      "cell_type": "code",
      "source": "for item in bev_dict:\n    print(item)\n    print(bev_dict[item])",
      "metadata": {
        "trusted": true
      },
      "execution_count": 227,
      "outputs": [
        {
          "name": "stdout",
          "text": "orange juice\n10\napple juice\n5\n",
          "output_type": "stream"
        }
      ]
    },
    {
      "cell_type": "code",
      "source": "bev_tuple=(\"tea\", \"coffee\", \"juice\")",
      "metadata": {
        "trusted": true
      },
      "execution_count": 228,
      "outputs": []
    },
    {
      "cell_type": "code",
      "source": "bev_tuple",
      "metadata": {
        "trusted": true
      },
      "execution_count": 229,
      "outputs": [
        {
          "execution_count": 229,
          "output_type": "execute_result",
          "data": {
            "text/plain": "('tea', 'coffee', 'juice')"
          },
          "metadata": {}
        }
      ]
    },
    {
      "cell_type": "code",
      "source": "bev_tuple[1]",
      "metadata": {
        "trusted": true
      },
      "execution_count": 237,
      "outputs": [
        {
          "execution_count": 237,
          "output_type": "execute_result",
          "data": {
            "text/plain": "'coffee'"
          },
          "metadata": {}
        }
      ]
    },
    {
      "cell_type": "code",
      "source": "print(\"do krotek nie mozna dodawac elementow\")",
      "metadata": {
        "trusted": true
      },
      "execution_count": 238,
      "outputs": [
        {
          "name": "stdout",
          "text": "do krotek nie mozna dodawac elementow\n",
          "output_type": "stream"
        }
      ]
    },
    {
      "cell_type": "code",
      "source": "conv_tup = (\"tea\", \"coffee\", \"juice\")",
      "metadata": {
        "trusted": true
      },
      "execution_count": 247,
      "outputs": []
    },
    {
      "cell_type": "code",
      "source": "tuple(bev_tuple + conv_tup)",
      "metadata": {
        "trusted": true
      },
      "execution_count": 248,
      "outputs": [
        {
          "execution_count": 248,
          "output_type": "execute_result",
          "data": {
            "text/plain": "('tea', 'coffee', 'juice', 'tea', 'coffee', 'juice')"
          },
          "metadata": {}
        }
      ]
    }
  ]
}