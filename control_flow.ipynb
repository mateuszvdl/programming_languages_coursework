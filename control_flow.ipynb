{
 "cells": [
  {
   "cell_type": "markdown",
   "id": "124792f5",
   "metadata": {},
   "source": [
    "# Ćwiczenia 4: instrukcje sterujące"
   ]
  },
  {
   "cell_type": "markdown",
   "id": "72aa42e0",
   "metadata": {},
   "source": [
    "## Instrukcja sterująca if else elif"
   ]
  },
  {
   "cell_type": "markdown",
   "id": "e3ce61c0",
   "metadata": {},
   "source": [
    "Użyj if else do sprawdzenia, czy 'flat_white' na liście ['flat_white', 'cappuccino', 'espresso']. Jeżeli jest, wyświetl True, w p. p. wyświetl False"
   ]
  },
  {
   "cell_type": "code",
   "execution_count": 4,
   "id": "2ff92629",
   "metadata": {},
   "outputs": [
    {
     "name": "stdout",
     "output_type": "stream",
     "text": [
      "True\n"
     ]
    }
   ],
   "source": [
    "coffee = [\"flat_white\", \"cappuccino\", \"espresso\"]\n",
    "if \"flat_white\" in coffee:\n",
    "    print(\"True\")\n",
    "else: print(\"False\")"
   ]
  },
  {
   "cell_type": "markdown",
   "id": "d012fd3e",
   "metadata": {},
   "source": [
    "Wyświetl sam warunek (bez if i else) w print:"
   ]
  },
  {
   "cell_type": "code",
   "execution_count": 5,
   "id": "b77d1a30",
   "metadata": {},
   "outputs": [
    {
     "data": {
      "text/plain": [
       "True"
      ]
     },
     "execution_count": 5,
     "metadata": {},
     "output_type": "execute_result"
    }
   ],
   "source": [
    "\"flat_white\" in coffee"
   ]
  },
  {
   "cell_type": "markdown",
   "id": "13d4522e",
   "metadata": {},
   "source": [
    "Zadeklaruj listę coffee_list = ['flat_white', 'cappuccino', 'espresso']"
   ]
  },
  {
   "cell_type": "code",
   "execution_count": 8,
   "id": "213c0e2f",
   "metadata": {},
   "outputs": [],
   "source": [
    "coffee_list = [\"flat_white\", \"cappuccino\", \"espresso\"]"
   ]
  },
  {
   "cell_type": "markdown",
   "id": "545cffdf",
   "metadata": {},
   "source": [
    "Użyj if else do sprawdzenia, czy 'cortado' jest na tej liście. Jeżeli tak, to wyświetl komunikat 'Cortado is in the list'. Jeżeli nie, to dodaj do listy za pomocą append"
   ]
  },
  {
   "cell_type": "code",
   "execution_count": 10,
   "id": "e5a8cc8d",
   "metadata": {},
   "outputs": [
    {
     "name": "stdout",
     "output_type": "stream",
     "text": [
      "Cortado is in the list\n"
     ]
    }
   ],
   "source": [
    "if \"cortado\" in coffee_list:\n",
    "    print(\"Cortado is in the list\")\n",
    "else:\n",
    "    coffee_list.append(\"cortado\")"
   ]
  },
  {
   "cell_type": "markdown",
   "id": "f4ae5a01",
   "metadata": {},
   "source": [
    "Przetestuj kod."
   ]
  },
  {
   "cell_type": "code",
   "execution_count": 12,
   "id": "74f0eb05",
   "metadata": {},
   "outputs": [
    {
     "name": "stdout",
     "output_type": "stream",
     "text": [
      "Po ponownym uruchomieniu kodu wyświetla się komunikat, że cortado już jest na liście, ponieważ za pomocą append dodano je do listy\n"
     ]
    }
   ],
   "source": [
    "coffee_list\n",
    "print(\"Po ponownym uruchomieniu kodu wyświetla się komunikat, że cortado już jest na liście, ponieważ za pomocą append dodano je do listy\")"
   ]
  },
  {
   "cell_type": "markdown",
   "id": "27b6ef58",
   "metadata": {},
   "source": [
    "Co się stanie, kiedy uruchomisz kod ponownie?"
   ]
  },
  {
   "cell_type": "markdown",
   "id": "62ebbb9d",
   "metadata": {},
   "source": [
    "## Instrukcja sterująca for "
   ]
  },
  {
   "cell_type": "markdown",
   "id": "a988afc0",
   "metadata": {},
   "source": [
    "Na poprzednich zajęciach została wykorzystana instrukcja sterująca for ... in range(...). Napisz poniżej kod, który wyświetli znak 'x' zadaną liczbę razy."
   ]
  },
  {
   "cell_type": "code",
   "execution_count": 15,
   "id": "bd468a2a",
   "metadata": {},
   "outputs": [
    {
     "name": "stdout",
     "output_type": "stream",
     "text": [
      "x\n",
      "x\n",
      "x\n",
      "x\n",
      "x\n",
      "x\n",
      "x\n",
      "x\n",
      "x\n",
      "x\n"
     ]
    }
   ],
   "source": [
    "for it in range(0,10):\n",
    "    print(\"x\")"
   ]
  },
  {
   "cell_type": "markdown",
   "id": "6ceb36de",
   "metadata": {},
   "source": [
    "Zadeklaruj i = 0 i w każdej iteracji zwiększaj i o 1 i wyświetlaj wartość zmiennej. "
   ]
  },
  {
   "cell_type": "code",
   "execution_count": 42,
   "id": "1fa6187a",
   "metadata": {},
   "outputs": [
    {
     "name": "stdout",
     "output_type": "stream",
     "text": [
      "1\n",
      "2\n",
      "3\n",
      "4\n",
      "5\n",
      "6\n"
     ]
    }
   ],
   "source": [
    "i = 0\n",
    "for it in range(4,10):\n",
    "    i= i+1\n",
    "    print(i)"
   ]
  },
  {
   "cell_type": "markdown",
   "id": "26d7d579",
   "metadata": {},
   "source": [
    "Przeanalizuj poniższy kod:"
   ]
  },
  {
   "cell_type": "code",
   "execution_count": 28,
   "id": "e352cd71",
   "metadata": {},
   "outputs": [
    {
     "name": "stdout",
     "output_type": "stream",
     "text": [
      "\n",
      "x\n",
      "xx\n",
      "xxx\n",
      "xxxx\n"
     ]
    }
   ],
   "source": [
    "for i in range(5):\n",
    "    for j in range(i):\n",
    "        print('x', end = '')\n",
    "    print()"
   ]
  },
  {
   "cell_type": "markdown",
   "id": "3ec60d76",
   "metadata": {},
   "source": [
    "Zadeklaruj zmienną names, a w niej dodaj imiona Anne, Chris, John, Natalie."
   ]
  },
  {
   "cell_type": "code",
   "execution_count": 32,
   "id": "d18b867f",
   "metadata": {},
   "outputs": [],
   "source": [
    "names = (\"Anne\", \"Chris\", \"John\", \"Natalie\")"
   ]
  },
  {
   "cell_type": "markdown",
   "id": "559ed989",
   "metadata": {},
   "source": [
    "Wyświetl każde z imion w pętli"
   ]
  },
  {
   "cell_type": "code",
   "execution_count": 39,
   "id": "e04711a7",
   "metadata": {},
   "outputs": [
    {
     "name": "stdout",
     "output_type": "stream",
     "text": [
      "Anne\n",
      "Chris\n",
      "John\n",
      "Natalie\n"
     ]
    }
   ],
   "source": [
    "for it in range(len(names)):\n",
    "    print(names[it])"
   ]
  },
  {
   "cell_type": "markdown",
   "id": "733665c2",
   "metadata": {},
   "source": [
    "## Pętla for a typy danych"
   ]
  },
  {
   "cell_type": "markdown",
   "id": "3d61ce75",
   "metadata": {},
   "source": [
    "Wywołaj pętlę for dla listy:"
   ]
  },
  {
   "cell_type": "code",
   "execution_count": 48,
   "id": "f93e3d03",
   "metadata": {},
   "outputs": [
    {
     "name": "stdout",
     "output_type": "stream",
     "text": [
      "Anne\n",
      "Chris\n",
      "John\n",
      "Natalie\n"
     ]
    }
   ],
   "source": [
    "for it in names:\n",
    "    print(it)"
   ]
  },
  {
   "cell_type": "markdown",
   "id": "316446fe",
   "metadata": {},
   "source": [
    "Zamiast listy użyj łańcucha znaków: \"Hello World!\""
   ]
  },
  {
   "cell_type": "code",
   "execution_count": 49,
   "id": "4463f5d2",
   "metadata": {},
   "outputs": [
    {
     "name": "stdout",
     "output_type": "stream",
     "text": [
      "H\n",
      "e\n",
      "l\n",
      "l\n",
      "o\n",
      " \n",
      "W\n",
      "o\n",
      "r\n",
      "l\n",
      "d\n",
      "!\n"
     ]
    }
   ],
   "source": [
    "chain = \"Hello World!\"\n",
    "for it in chain:\n",
    "    print(it)"
   ]
  },
  {
   "cell_type": "markdown",
   "id": "7f5fc617",
   "metadata": {},
   "source": [
    "Tym razem użyj słownika: {\"customer_201\": \"Paul\", \"customer_202\": \"Anne\", \"customer_203\": \"Mary\", \"customer_204\": \"James\"}"
   ]
  },
  {
   "cell_type": "code",
   "execution_count": 54,
   "id": "0a24cff7",
   "metadata": {},
   "outputs": [
    {
     "name": "stdout",
     "output_type": "stream",
     "text": [
      "customer_201\n",
      "customer_202\n",
      "customer_203\n",
      "customer_204\n"
     ]
    }
   ],
   "source": [
    "dict = {\"customer_201\":\"Paul\", \"customer_202\":\"Anne\", \"customer_203\":\"Mary\", \"customer_204\":\"James\"}\n",
    "for it in dict:\n",
    "    print(it)"
   ]
  },
  {
   "cell_type": "markdown",
   "id": "1b37b37b",
   "metadata": {},
   "source": [
    "W pętli for zamiast nazwy słownika użyj nazwa_słownika.values():"
   ]
  },
  {
   "cell_type": "code",
   "execution_count": 56,
   "id": "929ddc07",
   "metadata": {},
   "outputs": [
    {
     "name": "stdout",
     "output_type": "stream",
     "text": [
      "Paul\n",
      "Anne\n",
      "Mary\n",
      "James\n"
     ]
    }
   ],
   "source": [
    "for it in dict.values():\n",
    "    print(it)"
   ]
  },
  {
   "cell_type": "markdown",
   "id": "306a319e",
   "metadata": {},
   "source": [
    "## Pętla while"
   ]
  },
  {
   "cell_type": "markdown",
   "id": "d435ee59",
   "metadata": {},
   "source": [
    "Instrukcja input służy do wprowadzania danych z terminala. Wypróbuj ją, przypisując to, co wprowadził użytkownik do zmiennej user_input."
   ]
  },
  {
   "cell_type": "code",
   "execution_count": 4,
   "id": "6b2d366a",
   "metadata": {},
   "outputs": [
    {
     "name": "stdout",
     "output_type": "stream",
     "text": [
      "1\n"
     ]
    }
   ],
   "source": [
    "# przypisz do user_input\n",
    "user = input()"
   ]
  },
  {
   "cell_type": "code",
   "execution_count": 5,
   "id": "ff02e3ad",
   "metadata": {},
   "outputs": [
    {
     "name": "stdout",
     "output_type": "stream",
     "text": [
      "1\n"
     ]
    }
   ],
   "source": [
    "# wyswietl wartosc user_input\n",
    "print(user)"
   ]
  },
  {
   "cell_type": "markdown",
   "id": "198e802c",
   "metadata": {},
   "source": [
    "Zadeklaruj zmienną n o wartości 0. Napisz pętlę while, której warunek wyjścia to n > =3. Podpowiedź: pętla wykonuje się póki n < 3. W pętli pobierz dane od użytkownika, zamień na integer (funkcją int()) i przypisz do n. Przetestuj funkcję podając 1, 2 oraz 3."
   ]
  },
  {
   "cell_type": "code",
   "execution_count": 3,
   "id": "2959b4d4",
   "metadata": {},
   "outputs": [
    {
     "name": "stdout",
     "output_type": "stream",
     "text": [
      "3\n"
     ]
    }
   ],
   "source": [
    "n = random.randint(0,10)\n",
    "while n<3:\n",
    "    pb = input()\n",
    "    n = int(pb)"
   ]
  },
  {
   "cell_type": "markdown",
   "id": "23719775",
   "metadata": {},
   "source": [
    "W przypadku prostych gier zabawa polega na zgadnięciu liczby. Wylosuj liczbę z przedziału 1-10 za pomocą funkcji random.randint(0,2). Przypisz ją do n i wyświetl ją. Pamiętaj o imporcie biblioteki random."
   ]
  },
  {
   "cell_type": "code",
   "execution_count": 2,
   "id": "0ad5bfa0",
   "metadata": {},
   "outputs": [
    {
     "name": "stdout",
     "output_type": "stream",
     "text": [
      "6\n"
     ]
    }
   ],
   "source": [
    "import random\n",
    "gra = random.randint(0,10)\n",
    "print(gra)"
   ]
  },
  {
   "cell_type": "markdown",
   "id": "66a0c3ea",
   "metadata": {},
   "source": [
    "Zmodyfikuj wcześniejszy kod pętli while:\n",
    "- n zamień na losową wartość\n",
    "- zmień warunek na taki, że instrukcja sterująca while wykonuje się, dopóki liczby nie są równe"
   ]
  },
  {
   "cell_type": "code",
   "execution_count": 8,
   "id": "af14df91",
   "metadata": {},
   "outputs": [
    {
     "name": "stdout",
     "output_type": "stream",
     "text": [
      "2\n",
      "1\n",
      "43\n",
      "3\n"
     ]
    }
   ],
   "source": [
    "n = random.randint(1,10)\n",
    "\n",
    "pb_liczba = 0\n",
    "while not (n == pb_liczba):\n",
    "    pb = input()\n",
    "    pb_liczba = int(pb)"
   ]
  },
  {
   "cell_type": "markdown",
   "id": "a16bae43",
   "metadata": {},
   "source": [
    "Rozbuduj kod o wyświetlanie informacji:\n",
    "- jeżeli wprowadzona wartość się zgadza, to pogratuluj użytkownikowi\n",
    "- w p.p. jeżeli wprowadzona wartość będzie mniejsza, to wyświetl stosowną informację\n",
    "- w p.p. wyświetl informację, że liczba jest większa"
   ]
  },
  {
   "cell_type": "code",
   "execution_count": 14,
   "id": "ec33de51",
   "metadata": {},
   "outputs": [
    {
     "name": "stdout",
     "output_type": "stream",
     "text": [
      "1\n",
      "The number provided is smaller\n",
      "2\n",
      "The number provided is smaller\n",
      "3\n",
      "The number provided is smaller\n",
      "8\n",
      "The number provided is bigger\n",
      "7\n",
      "The number provided is bigger\n",
      "6\n",
      "The number provided is bigger\n",
      "5\n",
      "Congrats!\n"
     ]
    }
   ],
   "source": [
    "n = random.randint(1,10)\n",
    "\n",
    "pb_liczba = 0\n",
    "while not (n == pb_liczba):\n",
    "    pb = input()\n",
    "    pb_liczba = int(pb)\n",
    "    if n==pb_liczba:\n",
    "        print(\"Congrats!\")\n",
    "    elif n>pb_liczba:\n",
    "        print(\"The number provided is smaller\")\n",
    "    else:\n",
    "        print(\"The number provided is bigger\")"
   ]
  },
  {
   "cell_type": "markdown",
   "id": "1d4f545e",
   "metadata": {},
   "source": [
    "### Słowo kluczowe break"
   ]
  },
  {
   "cell_type": "markdown",
   "id": "2b40e37e",
   "metadata": {},
   "source": [
    "Napisz kod, w którym:\n",
    "- zmienna pin będzie miała stałą wartość\n",
    "- wykonamy trzy próby na podanie kodu pin\n",
    "- w przypadku prawidłowego kodu następuje wyjście z pętli"
   ]
  },
  {
   "cell_type": "code",
   "execution_count": 12,
   "id": "751594f4",
   "metadata": {
    "scrolled": true
   },
   "outputs": [
    {
     "name": "stdout",
     "output_type": "stream",
     "text": [
      "12\n",
      "1234\n"
     ]
    }
   ],
   "source": [
    "for it in range(3):\n",
    "    user = input()\n",
    "    if int(user)==1234:\n",
    "        break"
   ]
  },
  {
   "cell_type": "markdown",
   "id": "e09ed849",
   "metadata": {},
   "source": [
    "#### Poniżej znajduje się tekst"
   ]
  },
  {
   "cell_type": "code",
   "execution_count": 2,
   "id": "3f592487",
   "metadata": {},
   "outputs": [],
   "source": [
    "s = \"Python is an interpreted high-level general-purpose programming language. Its design philosophy emphasizes code readability with its use of significant indentation. Its language constructs as well as its object-oriented approach aim to help programmers write clear, logical code for small and large-scale projects.\""
   ]
  },
  {
   "cell_type": "markdown",
   "id": "b2ad1b46",
   "metadata": {},
   "source": [
    "Podziel tekst za pomocą funkcji split."
   ]
  },
  {
   "cell_type": "markdown",
   "id": "4be68945",
   "metadata": {},
   "source": [
    "Wyświetl wynik podziału."
   ]
  },
  {
   "cell_type": "code",
   "execution_count": 4,
   "id": "3cf5006f",
   "metadata": {},
   "outputs": [
    {
     "name": "stdout",
     "output_type": "stream",
     "text": [
      "['Python', 'is', 'an', 'interpreted', 'high-level', 'general-purpose', 'programming', 'language.', 'Its', 'design', 'philosophy', 'emphasizes', 'code', 'readability', 'with', 'its', 'use', 'of', 'significant', 'indentation.', 'Its', 'language', 'constructs', 'as', 'well', 'as', 'its', 'object-oriented', 'approach', 'aim', 'to', 'help', 'programmers', 'write', 'clear,', 'logical', 'code', 'for', 'small', 'and', 'large-scale', 'projects.']\n"
     ]
    }
   ],
   "source": [
    "x = s.split()\n",
    "print(x)"
   ]
  },
  {
   "cell_type": "markdown",
   "id": "9cfd9c45",
   "metadata": {},
   "source": [
    "Napisz pętlę, która zatrzyma się po znalezieniu słowa \"language\""
   ]
  },
  {
   "cell_type": "code",
   "execution_count": 8,
   "id": "3f2abbe1",
   "metadata": {},
   "outputs": [
    {
     "name": "stdout",
     "output_type": "stream",
     "text": [
      "P\n",
      "y\n",
      "t\n",
      "h\n",
      "o\n",
      "n\n",
      " \n",
      "i\n",
      "s\n",
      " \n",
      "a\n",
      "n\n",
      " \n",
      "i\n",
      "n\n",
      "t\n",
      "e\n",
      "r\n",
      "p\n",
      "r\n",
      "e\n",
      "t\n",
      "e\n",
      "d\n",
      " \n",
      "h\n",
      "i\n",
      "g\n",
      "h\n",
      "-\n",
      "l\n",
      "e\n",
      "v\n",
      "e\n",
      "l\n",
      " \n",
      "g\n",
      "e\n",
      "n\n",
      "e\n",
      "r\n",
      "a\n",
      "l\n",
      "-\n",
      "p\n",
      "u\n",
      "r\n",
      "p\n",
      "o\n",
      "s\n",
      "e\n",
      " \n",
      "p\n",
      "r\n",
      "o\n",
      "g\n",
      "r\n",
      "a\n",
      "m\n",
      "m\n",
      "i\n",
      "n\n",
      "g\n",
      " \n",
      "l\n",
      "a\n",
      "n\n",
      "g\n",
      "u\n",
      "a\n",
      "g\n",
      "e\n",
      ".\n",
      " \n",
      "I\n",
      "t\n",
      "s\n",
      " \n",
      "d\n",
      "e\n",
      "s\n",
      "i\n",
      "g\n",
      "n\n",
      " \n",
      "p\n",
      "h\n",
      "i\n",
      "l\n",
      "o\n",
      "s\n",
      "o\n",
      "p\n",
      "h\n",
      "y\n",
      " \n",
      "e\n",
      "m\n",
      "p\n",
      "h\n",
      "a\n",
      "s\n",
      "i\n",
      "z\n",
      "e\n",
      "s\n",
      " \n",
      "c\n",
      "o\n",
      "d\n",
      "e\n",
      " \n",
      "r\n",
      "e\n",
      "a\n",
      "d\n",
      "a\n",
      "b\n",
      "i\n",
      "l\n",
      "i\n",
      "t\n",
      "y\n",
      " \n",
      "w\n",
      "i\n",
      "t\n",
      "h\n",
      " \n",
      "i\n",
      "t\n",
      "s\n",
      " \n",
      "u\n",
      "s\n",
      "e\n",
      " \n",
      "o\n",
      "f\n",
      " \n",
      "s\n",
      "i\n",
      "g\n",
      "n\n",
      "i\n",
      "f\n",
      "i\n",
      "c\n",
      "a\n",
      "n\n",
      "t\n",
      " \n",
      "i\n",
      "n\n",
      "d\n",
      "e\n",
      "n\n",
      "t\n",
      "a\n",
      "t\n",
      "i\n",
      "o\n",
      "n\n",
      ".\n",
      " \n",
      "I\n",
      "t\n",
      "s\n",
      " \n",
      "l\n",
      "a\n",
      "n\n",
      "g\n",
      "u\n",
      "a\n",
      "g\n",
      "e\n",
      " \n",
      "c\n",
      "o\n",
      "n\n",
      "s\n",
      "t\n",
      "r\n",
      "u\n",
      "c\n",
      "t\n",
      "s\n",
      " \n",
      "a\n",
      "s\n",
      " \n",
      "w\n",
      "e\n",
      "l\n",
      "l\n",
      " \n",
      "a\n",
      "s\n",
      " \n",
      "i\n",
      "t\n",
      "s\n",
      " \n",
      "o\n",
      "b\n",
      "j\n",
      "e\n",
      "c\n",
      "t\n",
      "-\n",
      "o\n",
      "r\n",
      "i\n",
      "e\n",
      "n\n",
      "t\n",
      "e\n",
      "d\n",
      " \n",
      "a\n",
      "p\n",
      "p\n",
      "r\n",
      "o\n",
      "a\n",
      "c\n",
      "h\n",
      " \n",
      "a\n",
      "i\n",
      "m\n",
      " \n",
      "t\n",
      "o\n",
      " \n",
      "h\n",
      "e\n",
      "l\n",
      "p\n",
      " \n",
      "p\n",
      "r\n",
      "o\n",
      "g\n",
      "r\n",
      "a\n",
      "m\n",
      "m\n",
      "e\n",
      "r\n",
      "s\n",
      " \n",
      "w\n",
      "r\n",
      "i\n",
      "t\n",
      "e\n",
      " \n",
      "c\n",
      "l\n",
      "e\n",
      "a\n",
      "r\n",
      ",\n",
      " \n",
      "l\n",
      "o\n",
      "g\n",
      "i\n",
      "c\n",
      "a\n",
      "l\n",
      " \n",
      "c\n",
      "o\n",
      "d\n",
      "e\n",
      " \n",
      "f\n",
      "o\n",
      "r\n",
      " \n",
      "s\n",
      "m\n",
      "a\n",
      "l\n",
      "l\n",
      " \n",
      "a\n",
      "n\n",
      "d\n",
      " \n",
      "l\n",
      "a\n",
      "r\n",
      "g\n",
      "e\n",
      "-\n",
      "s\n",
      "c\n",
      "a\n",
      "l\n",
      "e\n",
      " \n",
      "p\n",
      "r\n",
      "o\n",
      "j\n",
      "e\n",
      "c\n",
      "t\n",
      "s\n",
      ".\n"
     ]
    }
   ],
   "source": [
    "for iterator in s:\n",
    "    if iterator == \"language\":\n",
    "        break\n",
    "    print(iterator)"
   ]
  },
  {
   "cell_type": "code",
   "execution_count": null,
   "id": "df78bb9b",
   "metadata": {},
   "outputs": [],
   "source": []
  },
  {
   "cell_type": "code",
   "execution_count": null,
   "id": "1cc01fa9",
   "metadata": {},
   "outputs": [],
   "source": []
  }
 ],
 "metadata": {
  "kernelspec": {
   "display_name": "Python 3 (ipykernel)",
   "language": "python",
   "name": "python3"
  },
  "language_info": {
   "codemirror_mode": {
    "name": "ipython",
    "version": 3
   },
   "file_extension": ".py",
   "mimetype": "text/x-python",
   "name": "python",
   "nbconvert_exporter": "python",
   "pygments_lexer": "ipython3",
   "version": "3.9.12"
  }
 },
 "nbformat": 4,
 "nbformat_minor": 5
}
